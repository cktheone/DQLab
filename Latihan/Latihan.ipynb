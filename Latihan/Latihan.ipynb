{
 "cells": [
  {
   "cell_type": "code",
   "execution_count": 1,
   "id": "8c6a59eb",
   "metadata": {
    "scrolled": true
   },
   "outputs": [],
   "source": [
    "import pandas as pd\n",
    "colnames=['id', 'kode_sarana', 'kode_sarana_lama', 'id_kartu', 'id_jenis', 'id_sub_jenis', 'seri', 'tahun_dinas', 'id_daops', 'id_depo', 'status', 'negara_asal', 'tgl_uji_pertama', 'tgl_masa_uji', 'tgl_masa_perawatan', 'pabrikan', 'id_pemilik', 'created_at', 'last_update' ] \n",
    "data = pd.read_csv('datasarana.csv', names=colnames)\n"
   ]
  },
  {
   "cell_type": "code",
   "execution_count": 2,
   "id": "2f9f5076",
   "metadata": {},
   "outputs": [
    {
     "name": "stdout",
     "output_type": "stream",
     "text": [
      "<class 'pandas.core.frame.DataFrame'>\n",
      "RangeIndex: 14038 entries, 0 to 14037\n",
      "Data columns (total 19 columns):\n",
      " #   Column              Non-Null Count  Dtype  \n",
      "---  ------              --------------  -----  \n",
      " 0   id                  14038 non-null  int64  \n",
      " 1   kode_sarana         14038 non-null  object \n",
      " 2   kode_sarana_lama    7221 non-null   object \n",
      " 3   id_kartu            0 non-null      float64\n",
      " 4   id_jenis            14038 non-null  int64  \n",
      " 5   id_sub_jenis        14038 non-null  int64  \n",
      " 6   seri                13370 non-null  float64\n",
      " 7   tahun_dinas         14038 non-null  int64  \n",
      " 8   id_daops            14038 non-null  int64  \n",
      " 9   id_depo             14038 non-null  int64  \n",
      " 10  status              14038 non-null  object \n",
      " 11  negara_asal         2665 non-null   object \n",
      " 12  tgl_uji_pertama     13678 non-null  object \n",
      " 13  tgl_masa_uji        13888 non-null  object \n",
      " 14  tgl_masa_perawatan  13370 non-null  object \n",
      " 15  pabrikan            14024 non-null  object \n",
      " 16  id_pemilik          14038 non-null  int64  \n",
      " 17  created_at          0 non-null      float64\n",
      " 18  last_update         0 non-null      float64\n",
      "dtypes: float64(4), int64(7), object(8)\n",
      "memory usage: 2.0+ MB\n",
      "None\n",
      "Index(['id', 'kode_sarana', 'kode_sarana_lama', 'id_kartu', 'id_jenis',\n",
      "       'id_sub_jenis', 'seri', 'tahun_dinas', 'id_daops', 'id_depo', 'status',\n",
      "       'negara_asal', 'tgl_uji_pertama', 'tgl_masa_uji', 'tgl_masa_perawatan',\n",
      "       'pabrikan', 'id_pemilik', 'created_at', 'last_update'],\n",
      "      dtype='object')\n"
     ]
    }
   ],
   "source": [
    "print(data.info())\n",
    "print(data.columns)"
   ]
  },
  {
   "cell_type": "code",
   "execution_count": 3,
   "id": "15a51351",
   "metadata": {},
   "outputs": [
    {
     "name": "stdout",
     "output_type": "stream",
     "text": [
      "      id kode_sarana kode_sarana_lama  id_kartu  id_jenis  id_sub_jenis  seri  \\\n",
      "0  14591     K101635              NaN       NaN        11             8   0.0   \n",
      "1  14585     K101629              NaN       NaN        11             8   0.0   \n",
      "2  14583     K101627              NaN       NaN        11             8   0.0   \n",
      "3  16103      P01903              NaN       NaN        11            10   0.0   \n",
      "4  16100     M101903              NaN       NaN        11            11   0.0   \n",
      "\n",
      "   tahun_dinas  id_daops  id_depo status negara_asal tgl_uji_pertama  \\\n",
      "0         2016         7       16  Aktiv         NaN      2016-06-08   \n",
      "1         2016         7       16  Aktiv         NaN      2016-06-08   \n",
      "2         2016         7       16  Aktiv         NaN      2016-06-08   \n",
      "3         2018         7       16  Aktiv   INDONESIA      2019-02-01   \n",
      "4         2018         7       16  Aktiv   INDONESIA      2019-02-01   \n",
      "\n",
      "  tgl_masa_uji tgl_masa_perawatan pabrikan  id_pemilik  created_at  \\\n",
      "0   2019-11-17         0000-00-00  PT INKA           2         NaN   \n",
      "1   2019-11-17         0000-00-00  PT INKA           2         NaN   \n",
      "2   2019-11-17         0000-00-00  PT INKA           2         NaN   \n",
      "3   2020-02-01         0000-00-00  PT INKA           2         NaN   \n",
      "4   2020-02-01         0000-00-00  PT INKA           2         NaN   \n",
      "\n",
      "   last_update  \n",
      "0          NaN  \n",
      "1          NaN  \n",
      "2          NaN  \n",
      "3          NaN  \n",
      "4          NaN  \n"
     ]
    }
   ],
   "source": [
    "print(data.head())"
   ]
  },
  {
   "cell_type": "code",
   "execution_count": 9,
   "id": "6c9f6a9d",
   "metadata": {
    "scrolled": true
   },
   "outputs": [],
   "source": [
    "def transform_data(jenis_sarana):\n",
    "    if jenis_sarana == 1 :\n",
    "        jenis_sarana = 'Lokomotif'\n",
    "    elif jenis_sarana == 2 :\n",
    "        jenis_sarana = 'KRL'\n",
    "    elif jenis_sarana == 3 :\n",
    "        jenis_sarana = 'KRD'\n",
    "    elif jenis_sarana == 4 :\n",
    "        jenis_sarana = 'Gerbong'\n",
    "    elif jenis_sarana == 9 :\n",
    "        jenis_sarana = 'Peralatan Khusus'\n",
    "    elif jenis_sarana == 11 :\n",
    "        jenis_sarana = 'Kereta'\n",
    "    elif jenis_sarana == 19 :\n",
    "        jenis_sarana = 'RailBus'\n",
    "   \n",
    "    return jenis_sarana \n"
   ]
  },
  {
   "cell_type": "code",
   "execution_count": 10,
   "id": "cc4f4c7d",
   "metadata": {
    "scrolled": true
   },
   "outputs": [],
   "source": [
    "data['id_jenis'] = data['id_jenis'].apply(lambda x: transform_data(x))"
   ]
  },
  {
   "cell_type": "code",
   "execution_count": 11,
   "id": "c47d6ae5",
   "metadata": {
    "collapsed": true
   },
   "outputs": [
    {
     "name": "stdout",
     "output_type": "stream",
     "text": [
      "      id kode_sarana kode_sarana_lama  id_kartu id_jenis  id_sub_jenis  seri  \\\n",
      "0  14591     K101635              NaN       NaN   Kereta             8   0.0   \n",
      "1  14585     K101629              NaN       NaN   Kereta             8   0.0   \n",
      "2  14583     K101627              NaN       NaN   Kereta             8   0.0   \n",
      "3  16103      P01903              NaN       NaN   Kereta            10   0.0   \n",
      "4  16100     M101903              NaN       NaN   Kereta            11   0.0   \n",
      "\n",
      "   tahun_dinas  id_daops  id_depo status negara_asal tgl_uji_pertama  \\\n",
      "0         2016         7       16  Aktiv         NaN      2016-06-08   \n",
      "1         2016         7       16  Aktiv         NaN      2016-06-08   \n",
      "2         2016         7       16  Aktiv         NaN      2016-06-08   \n",
      "3         2018         7       16  Aktiv   INDONESIA      2019-02-01   \n",
      "4         2018         7       16  Aktiv   INDONESIA      2019-02-01   \n",
      "\n",
      "  tgl_masa_uji tgl_masa_perawatan pabrikan  id_pemilik  created_at  \\\n",
      "0   2019-11-17         0000-00-00  PT INKA           2         NaN   \n",
      "1   2019-11-17         0000-00-00  PT INKA           2         NaN   \n",
      "2   2019-11-17         0000-00-00  PT INKA           2         NaN   \n",
      "3   2020-02-01         0000-00-00  PT INKA           2         NaN   \n",
      "4   2020-02-01         0000-00-00  PT INKA           2         NaN   \n",
      "\n",
      "   last_update  \n",
      "0          NaN  \n",
      "1          NaN  \n",
      "2          NaN  \n",
      "3          NaN  \n",
      "4          NaN  \n"
     ]
    }
   ],
   "source": [
    "print(data.head())"
   ]
  },
  {
   "cell_type": "code",
   "execution_count": 12,
   "id": "5fe4490d",
   "metadata": {
    "collapsed": true
   },
   "outputs": [
    {
     "name": "stdout",
     "output_type": "stream",
     "text": [
      "         id kode_sarana kode_sarana_lama  id_kartu id_jenis  id_sub_jenis  \\\n",
      "14028  1814    GB350901      ZZOW 351001       NaN  Gerbong            16   \n",
      "14029  1815    GB350902      ZZOW 351002       NaN  Gerbong            16   \n",
      "14030  1816    GB350903      ZZOW 351003       NaN  Gerbong            16   \n",
      "14031  1817    GB350904      ZZOW 351004       NaN  Gerbong            16   \n",
      "14032  1818    GB350905      ZZOW 351005       NaN  Gerbong            16   \n",
      "14033  1819    GB350906      ZZOW 351006       NaN  Gerbong            16   \n",
      "14034  1820    GB350907      ZZOW 351007       NaN  Gerbong            16   \n",
      "14035  1821    GB350908      ZZOW 351008       NaN  Gerbong            16   \n",
      "14036  1822    GB350909      ZZOW 351009       NaN  Gerbong            16   \n",
      "14037  1823    GB350910      ZZOW 351010       NaN  Gerbong            16   \n",
      "\n",
      "       seri  tahun_dinas  id_daops  id_depo status negara_asal  \\\n",
      "14028  58.0         2009        25       71  Aktiv         NaN   \n",
      "14029  58.0         2009        25       71  Aktiv         NaN   \n",
      "14030  58.0         2009        25       71  Aktiv         NaN   \n",
      "14031  58.0         2009        25       71  Aktiv         NaN   \n",
      "14032  58.0         2009        25       71  Aktiv         NaN   \n",
      "14033  58.0         2009        25       71  Aktiv         NaN   \n",
      "14034  58.0         2009        25       71  Aktiv         NaN   \n",
      "14035  58.0         2009        25       71  Aktiv         NaN   \n",
      "14036  58.0         2009        25       71  Aktiv         NaN   \n",
      "14037  58.0         2009        25       71  Aktiv         NaN   \n",
      "\n",
      "      tgl_uji_pertama tgl_masa_uji tgl_masa_perawatan pabrikan  id_pemilik  \\\n",
      "14028      2009-12-28   2020-11-29         0000-00-00  PT INKA           1   \n",
      "14029      2009-12-28   2020-11-29         0000-00-00  PT INKA           1   \n",
      "14030      2009-12-28   2020-11-29         0000-00-00  PT INKA           1   \n",
      "14031      2009-12-28   2020-11-29         0000-00-00  PT INKA           1   \n",
      "14032      2009-12-28   2020-11-29         0000-00-00  PT INKA           1   \n",
      "14033      2009-12-28   2020-11-29         0000-00-00  PT INKA           1   \n",
      "14034      2009-12-28   2020-11-29         0000-00-00  PT INKA           1   \n",
      "14035      2009-12-28   2020-11-29         0000-00-00  PT INKA           1   \n",
      "14036      2009-12-28   2020-11-29         0000-00-00  PT INKA           1   \n",
      "14037      2009-12-28   2017-12-27         0000-00-00  PT INKA           1   \n",
      "\n",
      "       created_at  last_update  \n",
      "14028         NaN          NaN  \n",
      "14029         NaN          NaN  \n",
      "14030         NaN          NaN  \n",
      "14031         NaN          NaN  \n",
      "14032         NaN          NaN  \n",
      "14033         NaN          NaN  \n",
      "14034         NaN          NaN  \n",
      "14035         NaN          NaN  \n",
      "14036         NaN          NaN  \n",
      "14037         NaN          NaN  \n"
     ]
    }
   ],
   "source": [
    "print(data.tail(10))"
   ]
  },
  {
   "cell_type": "code",
   "execution_count": 15,
   "id": "ab32f7d6",
   "metadata": {
    "collapsed": true
   },
   "outputs": [
    {
     "name": "stdout",
     "output_type": "stream",
     "text": [
      "         id kode_sarana kode_sarana_lama  id_kartu id_jenis  id_sub_jenis  \\\n",
      "6726  15744     K111801              NaN       NaN      KRL             3   \n",
      "\n",
      "      seri  tahun_dinas  id_daops  id_depo status negara_asal tgl_uji_pertama  \\\n",
      "6726   0.0         2018        27       74  Aktiv      JEPANG      0000-00-00   \n",
      "\n",
      "     tgl_masa_uji tgl_masa_perawatan       pabrikan  id_pemilik  created_at  \\\n",
      "6726   2021-05-08         0000-00-00  NIPPON SHARYO           5         NaN   \n",
      "\n",
      "      last_update  \n",
      "6726          NaN  \n"
     ]
    }
   ],
   "source": [
    "df_slice = data.loc[(data[\"kode_sarana\"] == \"K111801\")]\n",
    "print(df_slice)"
   ]
  },
  {
   "cell_type": "code",
   "execution_count": 16,
   "id": "3ffcee4f",
   "metadata": {},
   "outputs": [
    {
     "name": "stdout",
     "output_type": "stream",
     "text": [
      "['Kereta' 'Peralatan Khusus' 'Gerbong' 'KRL' 'Lokomotif' 'KRD']\n"
     ]
    }
   ],
   "source": [
    "print(data[\"id_jenis\"].unique())"
   ]
  },
  {
   "cell_type": "code",
   "execution_count": 25,
   "id": "33fb606b",
   "metadata": {},
   "outputs": [],
   "source": [
    "data = data.rename(columns={\"id_jenis\": \"jenis_sarana\", \"id_sub_jenis\": \"sub_jenis_sarana\"})"
   ]
  },
  {
   "cell_type": "code",
   "execution_count": 26,
   "id": "b7fd3db5",
   "metadata": {},
   "outputs": [
    {
     "name": "stdout",
     "output_type": "stream",
     "text": [
      "Index(['id', 'kode_sarana', 'kode_sarana_lama', 'id_kartu', 'jenis_sarana',\n",
      "       'sub_jenis_sarana', 'seri', 'tahun_dinas', 'id_daops', 'id_depo',\n",
      "       'status', 'negara_asal', 'tgl_uji_pertama', 'tgl_masa_uji',\n",
      "       'tgl_masa_perawatan', 'pabrikan', 'id_pemilik', 'created_at',\n",
      "       'last_update'],\n",
      "      dtype='object')\n"
     ]
    }
   ],
   "source": [
    "print(data.columns)"
   ]
  },
  {
   "cell_type": "code",
   "execution_count": 27,
   "id": "00b3a269",
   "metadata": {
    "collapsed": true
   },
   "outputs": [
    {
     "name": "stdout",
     "output_type": "stream",
     "text": [
      "      id kode_sarana kode_sarana_lama  id_kartu jenis_sarana  \\\n",
      "0  14591     K101635              NaN       NaN       Kereta   \n",
      "1  14585     K101629              NaN       NaN       Kereta   \n",
      "2  14583     K101627              NaN       NaN       Kereta   \n",
      "3  16103      P01903              NaN       NaN       Kereta   \n",
      "4  16100     M101903              NaN       NaN       Kereta   \n",
      "\n",
      "   sub_jenis_sarana  seri  tahun_dinas  id_daops  id_depo status negara_asal  \\\n",
      "0                 8   0.0         2016         7       16  Aktiv         NaN   \n",
      "1                 8   0.0         2016         7       16  Aktiv         NaN   \n",
      "2                 8   0.0         2016         7       16  Aktiv         NaN   \n",
      "3                10   0.0         2018         7       16  Aktiv   INDONESIA   \n",
      "4                11   0.0         2018         7       16  Aktiv   INDONESIA   \n",
      "\n",
      "  tgl_uji_pertama tgl_masa_uji tgl_masa_perawatan pabrikan  id_pemilik  \\\n",
      "0      2016-06-08   2019-11-17         0000-00-00  PT INKA           2   \n",
      "1      2016-06-08   2019-11-17         0000-00-00  PT INKA           2   \n",
      "2      2016-06-08   2019-11-17         0000-00-00  PT INKA           2   \n",
      "3      2019-02-01   2020-02-01         0000-00-00  PT INKA           2   \n",
      "4      2019-02-01   2020-02-01         0000-00-00  PT INKA           2   \n",
      "\n",
      "   created_at  last_update  \n",
      "0         NaN          NaN  \n",
      "1         NaN          NaN  \n",
      "2         NaN          NaN  \n",
      "3         NaN          NaN  \n",
      "4         NaN          NaN  \n"
     ]
    }
   ],
   "source": [
    "print(data.head())"
   ]
  },
  {
   "cell_type": "code",
   "execution_count": 30,
   "id": "b22e7a76",
   "metadata": {
    "scrolled": false
   },
   "outputs": [
    {
     "ename": "AttributeError",
     "evalue": "'DataFrame' object has no attribute '2021-01-01'",
     "output_type": "error",
     "traceback": [
      "\u001b[1;31m---------------------------------------------------------------------------\u001b[0m",
      "\u001b[1;31mAttributeError\u001b[0m                            Traceback (most recent call last)",
      "\u001b[1;32m<ipython-input-30-e827bd265fd6>\u001b[0m in \u001b[0;36m<module>\u001b[1;34m\u001b[0m\n\u001b[1;32m----> 1\u001b[1;33m \u001b[0mdf_slice2\u001b[0m \u001b[1;33m=\u001b[0m \u001b[0mdata\u001b[0m\u001b[1;33m.\u001b[0m\u001b[0mloc\u001b[0m\u001b[1;33m[\u001b[0m\u001b[1;33m(\u001b[0m\u001b[0mdata\u001b[0m\u001b[1;33m[\u001b[0m\u001b[1;34m\"tgl_masa_uji\"\u001b[0m\u001b[1;33m]\u001b[0m \u001b[1;33m==\u001b[0m \u001b[1;34m\"0000-00-00\"\u001b[0m\u001b[1;33m)\u001b[0m\u001b[1;33m]\u001b[0m\u001b[1;33m.\u001b[0m\u001b[0mapply\u001b[0m\u001b[1;33m(\u001b[0m\u001b[1;34m'2021-01-01'\u001b[0m\u001b[1;33m)\u001b[0m\u001b[1;33m\u001b[0m\u001b[1;33m\u001b[0m\u001b[0m\n\u001b[0m",
      "\u001b[1;32mC:\\ProgramData\\Anaconda3\\lib\\site-packages\\pandas\\core\\frame.py\u001b[0m in \u001b[0;36mapply\u001b[1;34m(self, func, axis, raw, result_type, args, **kwds)\u001b[0m\n\u001b[0;32m   7766\u001b[0m             \u001b[0mkwds\u001b[0m\u001b[1;33m=\u001b[0m\u001b[0mkwds\u001b[0m\u001b[1;33m,\u001b[0m\u001b[1;33m\u001b[0m\u001b[1;33m\u001b[0m\u001b[0m\n\u001b[0;32m   7767\u001b[0m         )\n\u001b[1;32m-> 7768\u001b[1;33m         \u001b[1;32mreturn\u001b[0m \u001b[0mop\u001b[0m\u001b[1;33m.\u001b[0m\u001b[0mget_result\u001b[0m\u001b[1;33m(\u001b[0m\u001b[1;33m)\u001b[0m\u001b[1;33m\u001b[0m\u001b[1;33m\u001b[0m\u001b[0m\n\u001b[0m\u001b[0;32m   7769\u001b[0m \u001b[1;33m\u001b[0m\u001b[0m\n\u001b[0;32m   7770\u001b[0m     \u001b[1;32mdef\u001b[0m \u001b[0mapplymap\u001b[0m\u001b[1;33m(\u001b[0m\u001b[0mself\u001b[0m\u001b[1;33m,\u001b[0m \u001b[0mfunc\u001b[0m\u001b[1;33m,\u001b[0m \u001b[0mna_action\u001b[0m\u001b[1;33m:\u001b[0m \u001b[0mOptional\u001b[0m\u001b[1;33m[\u001b[0m\u001b[0mstr\u001b[0m\u001b[1;33m]\u001b[0m \u001b[1;33m=\u001b[0m \u001b[1;32mNone\u001b[0m\u001b[1;33m)\u001b[0m \u001b[1;33m->\u001b[0m \u001b[0mDataFrame\u001b[0m\u001b[1;33m:\u001b[0m\u001b[1;33m\u001b[0m\u001b[1;33m\u001b[0m\u001b[0m\n",
      "\u001b[1;32mC:\\ProgramData\\Anaconda3\\lib\\site-packages\\pandas\\core\\apply.py\u001b[0m in \u001b[0;36mget_result\u001b[1;34m(self)\u001b[0m\n\u001b[0;32m    158\u001b[0m             \u001b[1;31m# Some methods (shift, etc.) require the axis argument, others\u001b[0m\u001b[1;33m\u001b[0m\u001b[1;33m\u001b[0m\u001b[1;33m\u001b[0m\u001b[0m\n\u001b[0;32m    159\u001b[0m             \u001b[1;31m# don't, so inspect and insert if necessary.\u001b[0m\u001b[1;33m\u001b[0m\u001b[1;33m\u001b[0m\u001b[1;33m\u001b[0m\u001b[0m\n\u001b[1;32m--> 160\u001b[1;33m             \u001b[0mfunc\u001b[0m \u001b[1;33m=\u001b[0m \u001b[0mgetattr\u001b[0m\u001b[1;33m(\u001b[0m\u001b[0mself\u001b[0m\u001b[1;33m.\u001b[0m\u001b[0mobj\u001b[0m\u001b[1;33m,\u001b[0m \u001b[0mself\u001b[0m\u001b[1;33m.\u001b[0m\u001b[0mf\u001b[0m\u001b[1;33m)\u001b[0m\u001b[1;33m\u001b[0m\u001b[1;33m\u001b[0m\u001b[0m\n\u001b[0m\u001b[0;32m    161\u001b[0m             \u001b[0msig\u001b[0m \u001b[1;33m=\u001b[0m \u001b[0minspect\u001b[0m\u001b[1;33m.\u001b[0m\u001b[0mgetfullargspec\u001b[0m\u001b[1;33m(\u001b[0m\u001b[0mfunc\u001b[0m\u001b[1;33m)\u001b[0m\u001b[1;33m\u001b[0m\u001b[1;33m\u001b[0m\u001b[0m\n\u001b[0;32m    162\u001b[0m             \u001b[1;32mif\u001b[0m \u001b[1;34m\"axis\"\u001b[0m \u001b[1;32min\u001b[0m \u001b[0msig\u001b[0m\u001b[1;33m.\u001b[0m\u001b[0margs\u001b[0m\u001b[1;33m:\u001b[0m\u001b[1;33m\u001b[0m\u001b[1;33m\u001b[0m\u001b[0m\n",
      "\u001b[1;32mC:\\ProgramData\\Anaconda3\\lib\\site-packages\\pandas\\core\\generic.py\u001b[0m in \u001b[0;36m__getattr__\u001b[1;34m(self, name)\u001b[0m\n\u001b[0;32m   5463\u001b[0m             \u001b[1;32mif\u001b[0m \u001b[0mself\u001b[0m\u001b[1;33m.\u001b[0m\u001b[0m_info_axis\u001b[0m\u001b[1;33m.\u001b[0m\u001b[0m_can_hold_identifiers_and_holds_name\u001b[0m\u001b[1;33m(\u001b[0m\u001b[0mname\u001b[0m\u001b[1;33m)\u001b[0m\u001b[1;33m:\u001b[0m\u001b[1;33m\u001b[0m\u001b[1;33m\u001b[0m\u001b[0m\n\u001b[0;32m   5464\u001b[0m                 \u001b[1;32mreturn\u001b[0m \u001b[0mself\u001b[0m\u001b[1;33m[\u001b[0m\u001b[0mname\u001b[0m\u001b[1;33m]\u001b[0m\u001b[1;33m\u001b[0m\u001b[1;33m\u001b[0m\u001b[0m\n\u001b[1;32m-> 5465\u001b[1;33m             \u001b[1;32mreturn\u001b[0m \u001b[0mobject\u001b[0m\u001b[1;33m.\u001b[0m\u001b[0m__getattribute__\u001b[0m\u001b[1;33m(\u001b[0m\u001b[0mself\u001b[0m\u001b[1;33m,\u001b[0m \u001b[0mname\u001b[0m\u001b[1;33m)\u001b[0m\u001b[1;33m\u001b[0m\u001b[1;33m\u001b[0m\u001b[0m\n\u001b[0m\u001b[0;32m   5466\u001b[0m \u001b[1;33m\u001b[0m\u001b[0m\n\u001b[0;32m   5467\u001b[0m     \u001b[1;32mdef\u001b[0m \u001b[0m__setattr__\u001b[0m\u001b[1;33m(\u001b[0m\u001b[0mself\u001b[0m\u001b[1;33m,\u001b[0m \u001b[0mname\u001b[0m\u001b[1;33m:\u001b[0m \u001b[0mstr\u001b[0m\u001b[1;33m,\u001b[0m \u001b[0mvalue\u001b[0m\u001b[1;33m)\u001b[0m \u001b[1;33m->\u001b[0m \u001b[1;32mNone\u001b[0m\u001b[1;33m:\u001b[0m\u001b[1;33m\u001b[0m\u001b[1;33m\u001b[0m\u001b[0m\n",
      "\u001b[1;31mAttributeError\u001b[0m: 'DataFrame' object has no attribute '2021-01-01'"
     ]
    }
   ],
   "source": [
    " # df_slice2 = data.loc[(data[\"tgl_masa_uji\"] == \"0000-00-00\")].apply('2021-01-01')"
   ]
  },
  {
   "cell_type": "code",
   "execution_count": null,
   "id": "34dc7fc4",
   "metadata": {},
   "outputs": [],
   "source": [
    "import datetime\n",
    "data['masa_uji2'] = data['tgl_masa_uji'].apply(lambda x : datetime.datetime.strptime(x, \"%Y-%m-%d\").strftime('%Y-%m'))\n",
    "print(data.head())"
   ]
  },
  {
   "cell_type": "code",
   "execution_count": null,
   "id": "ea222adc",
   "metadata": {},
   "outputs": [],
   "source": []
  }
 ],
 "metadata": {
  "kernelspec": {
   "display_name": "Python 3",
   "language": "python",
   "name": "python3"
  },
  "language_info": {
   "codemirror_mode": {
    "name": "ipython",
    "version": 3
   },
   "file_extension": ".py",
   "mimetype": "text/x-python",
   "name": "python",
   "nbconvert_exporter": "python",
   "pygments_lexer": "ipython3",
   "version": "3.8.10"
  }
 },
 "nbformat": 4,
 "nbformat_minor": 5
}
