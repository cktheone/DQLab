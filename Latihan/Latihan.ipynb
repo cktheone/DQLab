{
 "cells": [
  {
   "cell_type": "code",
   "execution_count": 1,
   "id": "8c6a59eb",
   "metadata": {
    "scrolled": true
   },
   "outputs": [],
   "source": [
    "import pandas as pd\n",
    "colnames=['id', 'kode_sarana', 'kode_sarana_lama', 'id_kartu', 'id_jenis', 'id_sub_jenis', 'seri', 'tahun_dinas', 'id_daops', 'id_depo', 'status', 'negara_asal', 'tgl_uji_pertama', 'tgl_masa_uji', 'tgl_masa_perawatan', 'pabrikan', 'id_pemilik', 'created_at', 'last_update' ] \n",
    "data = pd.read_csv('datasarana.csv', names=colnames)\n"
   ]
  },
  {
   "cell_type": "code",
   "execution_count": 2,
   "id": "2f9f5076",
   "metadata": {},
   "outputs": [
    {
     "name": "stdout",
     "output_type": "stream",
     "text": [
      "<class 'pandas.core.frame.DataFrame'>\n",
      "RangeIndex: 14038 entries, 0 to 14037\n",
      "Data columns (total 19 columns):\n",
      " #   Column              Non-Null Count  Dtype  \n",
      "---  ------              --------------  -----  \n",
      " 0   id                  14038 non-null  int64  \n",
      " 1   kode_sarana         14038 non-null  object \n",
      " 2   kode_sarana_lama    7221 non-null   object \n",
      " 3   id_kartu            0 non-null      float64\n",
      " 4   id_jenis            14038 non-null  int64  \n",
      " 5   id_sub_jenis        14038 non-null  int64  \n",
      " 6   seri                13370 non-null  float64\n",
      " 7   tahun_dinas         14038 non-null  int64  \n",
      " 8   id_daops            14038 non-null  int64  \n",
      " 9   id_depo             14038 non-null  int64  \n",
      " 10  status              14038 non-null  object \n",
      " 11  negara_asal         2665 non-null   object \n",
      " 12  tgl_uji_pertama     13678 non-null  object \n",
      " 13  tgl_masa_uji        13888 non-null  object \n",
      " 14  tgl_masa_perawatan  13370 non-null  object \n",
      " 15  pabrikan            14024 non-null  object \n",
      " 16  id_pemilik          14038 non-null  int64  \n",
      " 17  created_at          0 non-null      float64\n",
      " 18  last_update         0 non-null      float64\n",
      "dtypes: float64(4), int64(7), object(8)\n",
      "memory usage: 2.0+ MB\n",
      "None\n",
      "Index(['id', 'kode_sarana', 'kode_sarana_lama', 'id_kartu', 'id_jenis',\n",
      "       'id_sub_jenis', 'seri', 'tahun_dinas', 'id_daops', 'id_depo', 'status',\n",
      "       'negara_asal', 'tgl_uji_pertama', 'tgl_masa_uji', 'tgl_masa_perawatan',\n",
      "       'pabrikan', 'id_pemilik', 'created_at', 'last_update'],\n",
      "      dtype='object')\n"
     ]
    }
   ],
   "source": [
    "print(data.info())\n",
    "print(data.columns)"
   ]
  },
  {
   "cell_type": "code",
   "execution_count": 3,
   "id": "15a51351",
   "metadata": {},
   "outputs": [
    {
     "name": "stdout",
     "output_type": "stream",
     "text": [
      "      id kode_sarana kode_sarana_lama  id_kartu  id_jenis  id_sub_jenis  seri  \\\n",
      "0  14591     K101635              NaN       NaN        11             8   0.0   \n",
      "1  14585     K101629              NaN       NaN        11             8   0.0   \n",
      "2  14583     K101627              NaN       NaN        11             8   0.0   \n",
      "3  16103      P01903              NaN       NaN        11            10   0.0   \n",
      "4  16100     M101903              NaN       NaN        11            11   0.0   \n",
      "\n",
      "   tahun_dinas  id_daops  id_depo status negara_asal tgl_uji_pertama  \\\n",
      "0         2016         7       16  Aktiv         NaN      2016-06-08   \n",
      "1         2016         7       16  Aktiv         NaN      2016-06-08   \n",
      "2         2016         7       16  Aktiv         NaN      2016-06-08   \n",
      "3         2018         7       16  Aktiv   INDONESIA      2019-02-01   \n",
      "4         2018         7       16  Aktiv   INDONESIA      2019-02-01   \n",
      "\n",
      "  tgl_masa_uji tgl_masa_perawatan pabrikan  id_pemilik  created_at  \\\n",
      "0   2019-11-17         0000-00-00  PT INKA           2         NaN   \n",
      "1   2019-11-17         0000-00-00  PT INKA           2         NaN   \n",
      "2   2019-11-17         0000-00-00  PT INKA           2         NaN   \n",
      "3   2020-02-01         0000-00-00  PT INKA           2         NaN   \n",
      "4   2020-02-01         0000-00-00  PT INKA           2         NaN   \n",
      "\n",
      "   last_update  \n",
      "0          NaN  \n",
      "1          NaN  \n",
      "2          NaN  \n",
      "3          NaN  \n",
      "4          NaN  \n"
     ]
    }
   ],
   "source": [
    "print(data.head())"
   ]
  },
  {
   "cell_type": "code",
   "execution_count": 4,
   "id": "6c9f6a9d",
   "metadata": {
    "scrolled": true
   },
   "outputs": [],
   "source": [
    "def transform_data(jenis_sarana):\n",
    "    if jenis_sarana == 1 :\n",
    "        jenis_sarana = 'Lokomotif'\n",
    "    elif jenis_sarana == 2 :\n",
    "        jenis_sarana = 'KRL'\n",
    "    elif jenis_sarana == 3 :\n",
    "        jenis_sarana = 'KRD'\n",
    "    elif jenis_sarana == 4 :\n",
    "        jenis_sarana = 'Gerbong'\n",
    "    elif jenis_sarana == 9 :\n",
    "        jenis_sarana = 'Peralatan Khusus'\n",
    "    elif jenis_sarana == 11 :\n",
    "        jenis_sarana = 'Kereta'\n",
    "    elif jenis_sarana == 19 :\n",
    "        jenis_sarana = 'RailBus'\n",
    "    else :\n",
    "        jenis_sara = 'undefined'\n",
    "        \n",
    "    return jenis_sarana \n"
   ]
  },
  {
   "cell_type": "code",
   "execution_count": 5,
   "id": "cc4f4c7d",
   "metadata": {
    "scrolled": true
   },
   "outputs": [],
   "source": [
    "data['id_jenis'] = data['id_jenis'].apply(lambda x: transform_data(x))"
   ]
  },
  {
   "cell_type": "code",
   "execution_count": 6,
   "id": "c47d6ae5",
   "metadata": {},
   "outputs": [
    {
     "name": "stdout",
     "output_type": "stream",
     "text": [
      "      id kode_sarana kode_sarana_lama  id_kartu id_jenis  id_sub_jenis  seri  \\\n",
      "0  14591     K101635              NaN       NaN   Kereta             8   0.0   \n",
      "1  14585     K101629              NaN       NaN   Kereta             8   0.0   \n",
      "2  14583     K101627              NaN       NaN   Kereta             8   0.0   \n",
      "3  16103      P01903              NaN       NaN   Kereta            10   0.0   \n",
      "4  16100     M101903              NaN       NaN   Kereta            11   0.0   \n",
      "\n",
      "   tahun_dinas  id_daops  id_depo status negara_asal tgl_uji_pertama  \\\n",
      "0         2016         7       16  Aktiv         NaN      2016-06-08   \n",
      "1         2016         7       16  Aktiv         NaN      2016-06-08   \n",
      "2         2016         7       16  Aktiv         NaN      2016-06-08   \n",
      "3         2018         7       16  Aktiv   INDONESIA      2019-02-01   \n",
      "4         2018         7       16  Aktiv   INDONESIA      2019-02-01   \n",
      "\n",
      "  tgl_masa_uji tgl_masa_perawatan pabrikan  id_pemilik  created_at  \\\n",
      "0   2019-11-17         0000-00-00  PT INKA           2         NaN   \n",
      "1   2019-11-17         0000-00-00  PT INKA           2         NaN   \n",
      "2   2019-11-17         0000-00-00  PT INKA           2         NaN   \n",
      "3   2020-02-01         0000-00-00  PT INKA           2         NaN   \n",
      "4   2020-02-01         0000-00-00  PT INKA           2         NaN   \n",
      "\n",
      "   last_update  \n",
      "0          NaN  \n",
      "1          NaN  \n",
      "2          NaN  \n",
      "3          NaN  \n",
      "4          NaN  \n"
     ]
    }
   ],
   "source": [
    "print(data.head())"
   ]
  },
  {
   "cell_type": "code",
   "execution_count": 7,
   "id": "5fe4490d",
   "metadata": {},
   "outputs": [
    {
     "name": "stdout",
     "output_type": "stream",
     "text": [
      "         id kode_sarana kode_sarana_lama  id_kartu id_jenis  id_sub_jenis  \\\n",
      "14028  1814    GB350901      ZZOW 351001       NaN  Gerbong            16   \n",
      "14029  1815    GB350902      ZZOW 351002       NaN  Gerbong            16   \n",
      "14030  1816    GB350903      ZZOW 351003       NaN  Gerbong            16   \n",
      "14031  1817    GB350904      ZZOW 351004       NaN  Gerbong            16   \n",
      "14032  1818    GB350905      ZZOW 351005       NaN  Gerbong            16   \n",
      "14033  1819    GB350906      ZZOW 351006       NaN  Gerbong            16   \n",
      "14034  1820    GB350907      ZZOW 351007       NaN  Gerbong            16   \n",
      "14035  1821    GB350908      ZZOW 351008       NaN  Gerbong            16   \n",
      "14036  1822    GB350909      ZZOW 351009       NaN  Gerbong            16   \n",
      "14037  1823    GB350910      ZZOW 351010       NaN  Gerbong            16   \n",
      "\n",
      "       seri  tahun_dinas  id_daops  id_depo status negara_asal  \\\n",
      "14028  58.0         2009        25       71  Aktiv         NaN   \n",
      "14029  58.0         2009        25       71  Aktiv         NaN   \n",
      "14030  58.0         2009        25       71  Aktiv         NaN   \n",
      "14031  58.0         2009        25       71  Aktiv         NaN   \n",
      "14032  58.0         2009        25       71  Aktiv         NaN   \n",
      "14033  58.0         2009        25       71  Aktiv         NaN   \n",
      "14034  58.0         2009        25       71  Aktiv         NaN   \n",
      "14035  58.0         2009        25       71  Aktiv         NaN   \n",
      "14036  58.0         2009        25       71  Aktiv         NaN   \n",
      "14037  58.0         2009        25       71  Aktiv         NaN   \n",
      "\n",
      "      tgl_uji_pertama tgl_masa_uji tgl_masa_perawatan pabrikan  id_pemilik  \\\n",
      "14028      2009-12-28   2020-11-29         0000-00-00  PT INKA           1   \n",
      "14029      2009-12-28   2020-11-29         0000-00-00  PT INKA           1   \n",
      "14030      2009-12-28   2020-11-29         0000-00-00  PT INKA           1   \n",
      "14031      2009-12-28   2020-11-29         0000-00-00  PT INKA           1   \n",
      "14032      2009-12-28   2020-11-29         0000-00-00  PT INKA           1   \n",
      "14033      2009-12-28   2020-11-29         0000-00-00  PT INKA           1   \n",
      "14034      2009-12-28   2020-11-29         0000-00-00  PT INKA           1   \n",
      "14035      2009-12-28   2020-11-29         0000-00-00  PT INKA           1   \n",
      "14036      2009-12-28   2020-11-29         0000-00-00  PT INKA           1   \n",
      "14037      2009-12-28   2017-12-27         0000-00-00  PT INKA           1   \n",
      "\n",
      "       created_at  last_update  \n",
      "14028         NaN          NaN  \n",
      "14029         NaN          NaN  \n",
      "14030         NaN          NaN  \n",
      "14031         NaN          NaN  \n",
      "14032         NaN          NaN  \n",
      "14033         NaN          NaN  \n",
      "14034         NaN          NaN  \n",
      "14035         NaN          NaN  \n",
      "14036         NaN          NaN  \n",
      "14037         NaN          NaN  \n"
     ]
    }
   ],
   "source": [
    "print(data.tail(10))"
   ]
  },
  {
   "cell_type": "code",
   "execution_count": 8,
   "id": "ab32f7d6",
   "metadata": {},
   "outputs": [
    {
     "name": "stdout",
     "output_type": "stream",
     "text": [
      "         id kode_sarana kode_sarana_lama  id_kartu id_jenis  id_sub_jenis  \\\n",
      "6726  15744     K111801              NaN       NaN      KRL             3   \n",
      "\n",
      "      seri  tahun_dinas  id_daops  id_depo status negara_asal tgl_uji_pertama  \\\n",
      "6726   0.0         2018        27       74  Aktiv      JEPANG      0000-00-00   \n",
      "\n",
      "     tgl_masa_uji tgl_masa_perawatan       pabrikan  id_pemilik  created_at  \\\n",
      "6726   2021-05-08         0000-00-00  NIPPON SHARYO           5         NaN   \n",
      "\n",
      "      last_update  \n",
      "6726          NaN  \n"
     ]
    }
   ],
   "source": [
    "df_slice = data.loc[(data[\"kode_sarana\"] == \"K111801\")]\n",
    "print(df_slice)"
   ]
  },
  {
   "cell_type": "code",
   "execution_count": 9,
   "id": "3ffcee4f",
   "metadata": {},
   "outputs": [
    {
     "name": "stdout",
     "output_type": "stream",
     "text": [
      "['Kereta' 'Peralatan Khusus' 'Gerbong' 'KRL' 'Lokomotif' 'RailBus' 'KRD']\n"
     ]
    }
   ],
   "source": [
    "print(data[\"id_jenis\"].unique())"
   ]
  },
  {
   "cell_type": "code",
   "execution_count": 10,
   "id": "33fb606b",
   "metadata": {},
   "outputs": [],
   "source": [
    "data = data.rename(columns={\"id_jenis\": \"jenis_sarana\", \"id_sub_jenis\": \"sub_jenis_sarana\"})"
   ]
  },
  {
   "cell_type": "code",
   "execution_count": 11,
   "id": "b7fd3db5",
   "metadata": {},
   "outputs": [
    {
     "name": "stdout",
     "output_type": "stream",
     "text": [
      "Index(['id', 'kode_sarana', 'kode_sarana_lama', 'id_kartu', 'jenis_sarana',\n",
      "       'sub_jenis_sarana', 'seri', 'tahun_dinas', 'id_daops', 'id_depo',\n",
      "       'status', 'negara_asal', 'tgl_uji_pertama', 'tgl_masa_uji',\n",
      "       'tgl_masa_perawatan', 'pabrikan', 'id_pemilik', 'created_at',\n",
      "       'last_update'],\n",
      "      dtype='object')\n"
     ]
    }
   ],
   "source": [
    "print(data.columns)"
   ]
  },
  {
   "cell_type": "code",
   "execution_count": 12,
   "id": "00b3a269",
   "metadata": {},
   "outputs": [
    {
     "name": "stdout",
     "output_type": "stream",
     "text": [
      "      id kode_sarana kode_sarana_lama  id_kartu jenis_sarana  \\\n",
      "0  14591     K101635              NaN       NaN       Kereta   \n",
      "1  14585     K101629              NaN       NaN       Kereta   \n",
      "2  14583     K101627              NaN       NaN       Kereta   \n",
      "3  16103      P01903              NaN       NaN       Kereta   \n",
      "4  16100     M101903              NaN       NaN       Kereta   \n",
      "\n",
      "   sub_jenis_sarana  seri  tahun_dinas  id_daops  id_depo status negara_asal  \\\n",
      "0                 8   0.0         2016         7       16  Aktiv         NaN   \n",
      "1                 8   0.0         2016         7       16  Aktiv         NaN   \n",
      "2                 8   0.0         2016         7       16  Aktiv         NaN   \n",
      "3                10   0.0         2018         7       16  Aktiv   INDONESIA   \n",
      "4                11   0.0         2018         7       16  Aktiv   INDONESIA   \n",
      "\n",
      "  tgl_uji_pertama tgl_masa_uji tgl_masa_perawatan pabrikan  id_pemilik  \\\n",
      "0      2016-06-08   2019-11-17         0000-00-00  PT INKA           2   \n",
      "1      2016-06-08   2019-11-17         0000-00-00  PT INKA           2   \n",
      "2      2016-06-08   2019-11-17         0000-00-00  PT INKA           2   \n",
      "3      2019-02-01   2020-02-01         0000-00-00  PT INKA           2   \n",
      "4      2019-02-01   2020-02-01         0000-00-00  PT INKA           2   \n",
      "\n",
      "   created_at  last_update  \n",
      "0         NaN          NaN  \n",
      "1         NaN          NaN  \n",
      "2         NaN          NaN  \n",
      "3         NaN          NaN  \n",
      "4         NaN          NaN  \n"
     ]
    }
   ],
   "source": [
    "print(data.head())"
   ]
  },
  {
   "cell_type": "code",
   "execution_count": 13,
   "id": "ea222adc",
   "metadata": {},
   "outputs": [],
   "source": [
    "jumlah_sarana = data.groupby('jenis_sarana')['kode_sarana'].count().reset_index()"
   ]
  },
  {
   "cell_type": "code",
   "execution_count": 14,
   "id": "7fffa54e",
   "metadata": {
    "scrolled": true
   },
   "outputs": [
    {
     "name": "stdout",
     "output_type": "stream",
     "text": [
      "       jenis_sarana  kode_sarana\n",
      "0           Gerbong         9047\n",
      "1               KRD          142\n",
      "2               KRL         1676\n",
      "3            Kereta         2396\n",
      "4         Lokomotif          532\n",
      "5  Peralatan Khusus          236\n",
      "6           RailBus            9\n"
     ]
    }
   ],
   "source": [
    "print(jumlah_sarana)"
   ]
  },
  {
   "cell_type": "code",
   "execution_count": 15,
   "id": "bb37081c",
   "metadata": {},
   "outputs": [
    {
     "name": "stdout",
     "output_type": "stream",
     "text": [
      "   id_pemilik  kode_sarana\n",
      "0           1          202\n",
      "1           2        12269\n",
      "2           3         1244\n",
      "3           4           76\n",
      "4           5           99\n",
      "5           6           17\n",
      "6           7           12\n",
      "7           8          113\n",
      "8          12            3\n",
      "9          14            3\n"
     ]
    }
   ],
   "source": [
    "jumlah_sarana2 = data.groupby('id_pemilik')['kode_sarana'].count().reset_index()\n",
    "print(jumlah_sarana2)"
   ]
  },
  {
   "cell_type": "code",
   "execution_count": 16,
   "id": "f6dffaf8",
   "metadata": {},
   "outputs": [
    {
     "name": "stdout",
     "output_type": "stream",
     "text": [
      "        jenis_sarana       status  kode_sarana\n",
      "0            Gerbong        Aktiv         8051\n",
      "1            Gerbong  Tidak Aktiv          996\n",
      "2                KRD        Aktiv           99\n",
      "3                KRD  Tidak Aktiv           43\n",
      "4                KRL        Aktiv         1518\n",
      "5                KRL  Tidak Aktiv          158\n",
      "6             Kereta        Aktiv         2018\n",
      "7             Kereta  Tidak Aktiv          378\n",
      "8          Lokomotif        Aktiv          485\n",
      "9          Lokomotif  Tidak Aktiv           47\n",
      "10  Peralatan Khusus        Aktiv          228\n",
      "11  Peralatan Khusus  Tidak Aktiv            8\n",
      "12           RailBus        Aktiv            9\n"
     ]
    }
   ],
   "source": [
    "jumlah_sarana3 = data.groupby(['jenis_sarana', 'status'])['kode_sarana'].count().reset_index()\n",
    "print(jumlah_sarana3)"
   ]
  },
  {
   "cell_type": "code",
   "execution_count": 17,
   "id": "9f9d01c9",
   "metadata": {},
   "outputs": [],
   "source": [
    "jumlah_sarana4 = data.groupby(['jenis_sarana', 'status'])['kode_sarana'].count().reset_index()\n",
    "pivot_sarana = jumlah_sarana4.pivot_table(index=['jenis_sarana'], columns='status')"
   ]
  },
  {
   "cell_type": "code",
   "execution_count": 18,
   "id": "56db153d",
   "metadata": {},
   "outputs": [
    {
     "name": "stdout",
     "output_type": "stream",
     "text": [
      "                 kode_sarana            \n",
      "status                 Aktiv Tidak Aktiv\n",
      "jenis_sarana                            \n",
      "Gerbong               8051.0       996.0\n",
      "KRD                     99.0        43.0\n",
      "KRL                   1518.0       158.0\n",
      "Kereta                2018.0       378.0\n",
      "Lokomotif              485.0        47.0\n",
      "Peralatan Khusus       228.0         8.0\n",
      "RailBus                  9.0         NaN\n"
     ]
    }
   ],
   "source": [
    "print(pivot_sarana)"
   ]
  },
  {
   "cell_type": "markdown",
   "id": "3fa6ac87",
   "metadata": {},
   "source": [
    "pivot_sarana.to_csv(path_or_buf='C:/Users/snovy/DTSPython/DQLab/Latihan/rekap_pivot.csv', sep=',',  header = False, index= False)\n",
    "digunakan untuk mekspor dataset"
   ]
  },
  {
   "cell_type": "markdown",
   "id": "2dc14a41",
   "metadata": {},
   "source": [
    "pivot_sarana.to_csv(path_or_buf='C:/Users/snovy/DTSPython/DQLab/Latihan/rekap_pivot2.csv', sep=',')"
   ]
  },
  {
   "cell_type": "code",
   "execution_count": 19,
   "id": "8c901684",
   "metadata": {},
   "outputs": [
    {
     "name": "stdout",
     "output_type": "stream",
     "text": [
      "         id kode_sarana kode_sarana_lama  id_kartu jenis_sarana  \\\n",
      "117    3122    GD421026              NaN       NaN      Gerbong   \n",
      "118    7554    GD421193              NaN       NaN      Gerbong   \n",
      "119    7550    GD421189              NaN       NaN      Gerbong   \n",
      "120    8804    GD421155              NaN       NaN      Gerbong   \n",
      "121    7864    GD421135              NaN       NaN      Gerbong   \n",
      "...     ...         ...              ...       ...          ...   \n",
      "14023  8739   GB3084134       ZZOW 30216       NaN      Gerbong   \n",
      "14024  8740   GB3084135       ZZOW 30217       NaN      Gerbong   \n",
      "14025  8741   GB3084136       ZZOW 30218       NaN      Gerbong   \n",
      "14026  8742   GB3084137       ZZOW 30219       NaN      Gerbong   \n",
      "14027  8743   GB3084141       ZZOW 30224       NaN      Gerbong   \n",
      "\n",
      "       sub_jenis_sarana  seri  tahun_dinas  id_daops  id_depo       status  \\\n",
      "117                   7  54.0         2010         7       19  Tidak Aktiv   \n",
      "118                   7  54.0         2011         7       19        Aktiv   \n",
      "119                   7  54.0         2011         7       19        Aktiv   \n",
      "120                   7  54.0         2011         7       19        Aktiv   \n",
      "121                   7  54.0         2011         7       19        Aktiv   \n",
      "...                 ...   ...          ...       ...      ...          ...   \n",
      "14023                16  58.0         1984        18       51  Tidak Aktiv   \n",
      "14024                16  58.0         1984        18       51  Tidak Aktiv   \n",
      "14025                16  58.0         1984        18       51  Tidak Aktiv   \n",
      "14026                16  58.0         1984        26       54        Aktiv   \n",
      "14027                16  58.0         1984        18       51  Tidak Aktiv   \n",
      "\n",
      "      negara_asal tgl_uji_pertama tgl_masa_uji tgl_masa_perawatan  \\\n",
      "117           NaN      2009-12-28   0000-00-00         0000-00-00   \n",
      "118           NaN      2012-02-20   0000-00-00         0000-00-00   \n",
      "119           NaN      2012-02-03   0000-00-00         0000-00-00   \n",
      "120           NaN      2012-02-03   0000-00-00         0000-00-00   \n",
      "121           NaN      2012-07-31   0000-00-00         0000-00-00   \n",
      "...           ...             ...          ...                ...   \n",
      "14023         NaN      0000-00-00   0000-00-00         0000-00-00   \n",
      "14024         NaN      0000-00-00   0000-00-00         0000-00-00   \n",
      "14025         NaN      0000-00-00   0000-00-00         0000-00-00   \n",
      "14026         NaN      0000-00-00   0000-00-00         0000-00-00   \n",
      "14027         NaN      0000-00-00   0000-00-00         0000-00-00   \n",
      "\n",
      "             pabrikan  id_pemilik  created_at  last_update  \n",
      "117           PT INKA           2         NaN          NaN  \n",
      "118           PT INKA           2         NaN          NaN  \n",
      "119           PT INKA           2         NaN          NaN  \n",
      "120           PT INKA           2         NaN          NaN  \n",
      "121           PT INKA           2         NaN          NaN  \n",
      "...               ...         ...         ...          ...  \n",
      "14023  ARAD (RUMANIA)           2         NaN          NaN  \n",
      "14024  ARAD (RUMANIA)           2         NaN          NaN  \n",
      "14025  ARAD (RUMANIA)           2         NaN          NaN  \n",
      "14026  ARAD (RUMANIA)           2         NaN          NaN  \n",
      "14027  ARAD (RUMANIA)           2         NaN          NaN  \n",
      "\n",
      "[1491 rows x 19 columns]\n"
     ]
    }
   ],
   "source": [
    "df_slice2 = data.loc[(data[\"tgl_masa_uji\"] == \"0000-00-00\")]\n",
    "print(df_slice2)"
   ]
  },
  {
   "cell_type": "code",
   "execution_count": 20,
   "id": "faeee8c1",
   "metadata": {},
   "outputs": [],
   "source": [
    "data_baru = data.replace({'tgl_masa_uji': '0000-00-00'}, {'tgl_masa_uji': '2021-01-01'})"
   ]
  },
  {
   "cell_type": "code",
   "execution_count": 21,
   "id": "56019bf1",
   "metadata": {},
   "outputs": [
    {
     "name": "stdout",
     "output_type": "stream",
     "text": [
      "       id kode_sarana kode_sarana_lama  id_kartu jenis_sarana  \\\n",
      "117  3122    GD421026              NaN       NaN      Gerbong   \n",
      "118  7554    GD421193              NaN       NaN      Gerbong   \n",
      "119  7550    GD421189              NaN       NaN      Gerbong   \n",
      "120  8804    GD421155              NaN       NaN      Gerbong   \n",
      "\n",
      "     sub_jenis_sarana  seri  tahun_dinas  id_daops  id_depo       status  \\\n",
      "117                 7  54.0         2010         7       19  Tidak Aktiv   \n",
      "118                 7  54.0         2011         7       19        Aktiv   \n",
      "119                 7  54.0         2011         7       19        Aktiv   \n",
      "120                 7  54.0         2011         7       19        Aktiv   \n",
      "\n",
      "    negara_asal tgl_uji_pertama tgl_masa_uji tgl_masa_perawatan pabrikan  \\\n",
      "117         NaN      2009-12-28   2021-01-01         0000-00-00  PT INKA   \n",
      "118         NaN      2012-02-20   2021-01-01         0000-00-00  PT INKA   \n",
      "119         NaN      2012-02-03   2021-01-01         0000-00-00  PT INKA   \n",
      "120         NaN      2012-02-03   2021-01-01         0000-00-00  PT INKA   \n",
      "\n",
      "     id_pemilik  created_at  last_update  \n",
      "117           2         NaN          NaN  \n",
      "118           2         NaN          NaN  \n",
      "119           2         NaN          NaN  \n",
      "120           2         NaN          NaN  \n"
     ]
    }
   ],
   "source": [
    "print(data_baru[117:121])"
   ]
  },
  {
   "cell_type": "code",
   "execution_count": 22,
   "id": "f3fc881a",
   "metadata": {},
   "outputs": [
    {
     "name": "stdout",
     "output_type": "stream",
     "text": [
      "id                      int64\n",
      "kode_sarana            object\n",
      "kode_sarana_lama       object\n",
      "id_kartu              float64\n",
      "jenis_sarana           object\n",
      "sub_jenis_sarana        int64\n",
      "seri                  float64\n",
      "tahun_dinas             int64\n",
      "id_daops                int64\n",
      "id_depo                 int64\n",
      "status                 object\n",
      "negara_asal            object\n",
      "tgl_uji_pertama        object\n",
      "tgl_masa_uji           object\n",
      "tgl_masa_perawatan     object\n",
      "pabrikan               object\n",
      "id_pemilik              int64\n",
      "created_at            float64\n",
      "last_update           float64\n",
      "dtype: object\n"
     ]
    }
   ],
   "source": [
    "print(data_baru.dtypes)"
   ]
  },
  {
   "cell_type": "code",
   "execution_count": 23,
   "id": "ec8850e9",
   "metadata": {},
   "outputs": [
    {
     "name": "stdout",
     "output_type": "stream",
     "text": [
      "      id kode_sarana kode_sarana_lama  id_kartu jenis_sarana  \\\n",
      "0  14591     K101635              NaN       NaN       Kereta   \n",
      "1  14585     K101629              NaN       NaN       Kereta   \n",
      "2  14583     K101627              NaN       NaN       Kereta   \n",
      "3  16103      P01903              NaN       NaN       Kereta   \n",
      "4  16100     M101903              NaN       NaN       Kereta   \n",
      "\n",
      "   sub_jenis_sarana  seri  tahun_dinas  id_daops  id_depo  ... negara_asal  \\\n",
      "0                 8   0.0         2016         7       16  ...         NaN   \n",
      "1                 8   0.0         2016         7       16  ...         NaN   \n",
      "2                 8   0.0         2016         7       16  ...         NaN   \n",
      "3                10   0.0         2018         7       16  ...   INDONESIA   \n",
      "4                11   0.0         2018         7       16  ...   INDONESIA   \n",
      "\n",
      "  tgl_uji_pertama tgl_masa_uji tgl_masa_perawatan pabrikan id_pemilik  \\\n",
      "0      2016-06-08   2019-11-17         0000-00-00  PT INKA          2   \n",
      "1      2016-06-08   2019-11-17         0000-00-00  PT INKA          2   \n",
      "2      2016-06-08   2019-11-17         0000-00-00  PT INKA          2   \n",
      "3      2019-02-01   2020-02-01         0000-00-00  PT INKA          2   \n",
      "4      2019-02-01   2020-02-01         0000-00-00  PT INKA          2   \n",
      "\n",
      "   created_at  last_update  expired_month expired_year  \n",
      "0         NaN          NaN        2019-11         2019  \n",
      "1         NaN          NaN        2019-11         2019  \n",
      "2         NaN          NaN        2019-11         2019  \n",
      "3         NaN          NaN        2020-02         2020  \n",
      "4         NaN          NaN        2020-02         2020  \n",
      "\n",
      "[5 rows x 21 columns]\n"
     ]
    }
   ],
   "source": [
    "import datetime\n",
    "#df.col = pd.to_datetime(df.col).dt.strftime('%m/%Y')\n",
    "data_baru['expired_month'] = pd.to_datetime(data_baru['tgl_masa_uji']).dt.strftime('%Y-%m')\n",
    "data_baru['expired_year'] = pd.to_datetime(data_baru['tgl_masa_uji']).dt.strftime('%Y')\n",
    "print(data_baru.head())"
   ]
  },
  {
   "cell_type": "markdown",
   "id": "a169a6fb",
   "metadata": {},
   "source": [
    "menambahkan kolom baru (expired_month) dan (expired_year) yang mengkonversi nilai tanggal pada kolom tgl_masa_uji ke format tahun-bulan dan tahun"
   ]
  },
  {
   "cell_type": "code",
   "execution_count": 24,
   "id": "6ec0fd9b",
   "metadata": {
    "scrolled": true
   },
   "outputs": [
    {
     "name": "stdout",
     "output_type": "stream",
     "text": [
      "   expired_year  kode_sarana\n",
      "0          1970            3\n",
      "1          2009            4\n",
      "2          2012            4\n",
      "3          2013           17\n",
      "4          2016           13\n",
      "5          2017          107\n",
      "6          2018           65\n",
      "7          2019         1912\n",
      "8          2020         7499\n",
      "9          2021         4090\n",
      "10         2022          174\n"
     ]
    }
   ],
   "source": [
    "jumlah_sarana5 = data_baru.groupby(['expired_year'])['kode_sarana'].count().reset_index()\n",
    "print(jumlah_sarana5)"
   ]
  },
  {
   "cell_type": "markdown",
   "id": "9816e860",
   "metadata": {},
   "source": [
    "comand untuk filtering/query data berdasarkan kondisi tertentu"
   ]
  },
  {
   "cell_type": "code",
   "execution_count": 25,
   "id": "5d38bde1",
   "metadata": {},
   "outputs": [
    {
     "name": "stdout",
     "output_type": "stream",
     "text": [
      "<bound method NDFrame.head of           id kode_sarana kode_sarana_lama  id_kartu jenis_sarana  \\\n",
      "0      14591     K101635              NaN       NaN       Kereta   \n",
      "1      14585     K101629              NaN       NaN       Kereta   \n",
      "2      14583     K101627              NaN       NaN       Kereta   \n",
      "3      16103      P01903              NaN       NaN       Kereta   \n",
      "4      16100     M101903              NaN       NaN       Kereta   \n",
      "...      ...         ...              ...       ...          ...   \n",
      "14007   8724   GB3084101       ZZOW 30180       NaN      Gerbong   \n",
      "14009   8744   GB3084142       ZZOW 30185       NaN      Gerbong   \n",
      "14012   8728   GB3084109       ZZOW 30189       NaN      Gerbong   \n",
      "14018   8734   GB3084123       ZZOW 30204       NaN      Gerbong   \n",
      "14026   8742   GB3084137       ZZOW 30219       NaN      Gerbong   \n",
      "\n",
      "       sub_jenis_sarana  seri  tahun_dinas  id_daops  id_depo  ...  \\\n",
      "0                     8   0.0         2016         7       16  ...   \n",
      "1                     8   0.0         2016         7       16  ...   \n",
      "2                     8   0.0         2016         7       16  ...   \n",
      "3                    10   0.0         2018         7       16  ...   \n",
      "4                    11   0.0         2018         7       16  ...   \n",
      "...                 ...   ...          ...       ...      ...  ...   \n",
      "14007                16  57.0         1984        26       54  ...   \n",
      "14009                16  58.0         1984        26       54  ...   \n",
      "14012                16  58.0         1984        26       54  ...   \n",
      "14018                16  58.0         1984        26       54  ...   \n",
      "14026                16  58.0         1984        26       54  ...   \n",
      "\n",
      "      negara_asal tgl_uji_pertama tgl_masa_uji tgl_masa_perawatan  \\\n",
      "0             NaN      2016-06-08   2019-11-17         0000-00-00   \n",
      "1             NaN      2016-06-08   2019-11-17         0000-00-00   \n",
      "2             NaN      2016-06-08   2019-11-17         0000-00-00   \n",
      "3       INDONESIA      2019-02-01   2020-02-01         0000-00-00   \n",
      "4       INDONESIA      2019-02-01   2020-02-01         0000-00-00   \n",
      "...           ...             ...          ...                ...   \n",
      "14007         NaN      0000-00-00   2021-01-01         0000-00-00   \n",
      "14009         NaN      0000-00-00   2021-01-01         0000-00-00   \n",
      "14012         NaN      0000-00-00   2021-01-01         0000-00-00   \n",
      "14018         NaN      0000-00-00   2021-01-01         0000-00-00   \n",
      "14026         NaN      0000-00-00   2021-01-01         0000-00-00   \n",
      "\n",
      "             pabrikan id_pemilik  created_at  last_update  expired_month  \\\n",
      "0             PT INKA          2         NaN          NaN        2019-11   \n",
      "1             PT INKA          2         NaN          NaN        2019-11   \n",
      "2             PT INKA          2         NaN          NaN        2019-11   \n",
      "3             PT INKA          2         NaN          NaN        2020-02   \n",
      "4             PT INKA          2         NaN          NaN        2020-02   \n",
      "...               ...        ...         ...          ...            ...   \n",
      "14007  ARAD (RUMANIA)          2         NaN          NaN        2021-01   \n",
      "14009  ARAD (RUMANIA)          2         NaN          NaN        2021-01   \n",
      "14012  ARAD (RUMANIA)          2         NaN          NaN        2021-01   \n",
      "14018  ARAD (RUMANIA)          2         NaN          NaN        2021-01   \n",
      "14026  ARAD (RUMANIA)          2         NaN          NaN        2021-01   \n",
      "\n",
      "      expired_year  \n",
      "0             2019  \n",
      "1             2019  \n",
      "2             2019  \n",
      "3             2020  \n",
      "4             2020  \n",
      "...            ...  \n",
      "14007         2021  \n",
      "14009         2021  \n",
      "14012         2021  \n",
      "14018         2021  \n",
      "14026         2021  \n",
      "\n",
      "[10735 rows x 21 columns]>\n"
     ]
    }
   ],
   "source": [
    "df_slice3 = data_baru.loc[(data_baru[\"status\"] == \"Aktiv\")]\n",
    "df_slice4 = df_slice3[df_slice3[\"id_pemilik\"] == 2]\n",
    "print(df_slice4.head)"
   ]
  },
  {
   "cell_type": "code",
   "execution_count": 26,
   "id": "44a055fb",
   "metadata": {},
   "outputs": [
    {
     "name": "stdout",
     "output_type": "stream",
     "text": [
      "['Aktiv']\n",
      "[2]\n",
      "id                      int64\n",
      "kode_sarana            object\n",
      "kode_sarana_lama       object\n",
      "id_kartu              float64\n",
      "jenis_sarana           object\n",
      "sub_jenis_sarana        int64\n",
      "seri                  float64\n",
      "tahun_dinas             int64\n",
      "id_daops                int64\n",
      "id_depo                 int64\n",
      "status                 object\n",
      "negara_asal            object\n",
      "tgl_uji_pertama        object\n",
      "tgl_masa_uji           object\n",
      "tgl_masa_perawatan     object\n",
      "pabrikan               object\n",
      "id_pemilik              int64\n",
      "created_at            float64\n",
      "last_update           float64\n",
      "expired_month          object\n",
      "expired_year           object\n",
      "dtype: object\n"
     ]
    }
   ],
   "source": [
    "print(df_slice4[\"status\"].unique())\n",
    "print(df_slice4[\"id_pemilik\"].unique())\n",
    "print(df_slice4.dtypes)"
   ]
  },
  {
   "cell_type": "code",
   "execution_count": 45,
   "id": "4f5c3b20",
   "metadata": {},
   "outputs": [
    {
     "name": "stdout",
     "output_type": "stream",
     "text": [
      "2021-06-08\n",
      "2020-01-01\n"
     ]
    }
   ],
   "source": [
    "from datetime import *\n",
    "#today = datetime.date(datetime.now())\n",
    "today = date.today()\n",
    "tgl = \"2020-01-01\"\n",
    "#date = datetime.strptime(tgl, '%Y-%m-%d')\n",
    "tgl = pd.to_datetime(tgl, format='%Y-%m-%d') \n",
    "tgl = datetime.date(tgl)\n",
    "\n",
    "print(today)\n",
    "print(tgl)\n",
    "def status_uji(tgl):\n",
    "    today = date.today()\n",
    "    tgl = pd.to_datetime(tgl, format='%Y-%m-%d') \n",
    "    tgl = datetime.date(tgl)\n",
    "    if tgl  <= today :\n",
    "        status = 'Expired'\n",
    "    else :\n",
    "        status = 'Masih Berlaku'\n",
    "    \n",
    "    return status \n"
   ]
  },
  {
   "cell_type": "code",
   "execution_count": 48,
   "id": "4d56a54c",
   "metadata": {
    "scrolled": true
   },
   "outputs": [
    {
     "name": "stdout",
     "output_type": "stream",
     "text": [
      "['Expired' 'Masih Berlaku']\n"
     ]
    },
    {
     "name": "stderr",
     "output_type": "stream",
     "text": [
      "<ipython-input-48-277c3819fc19>:1: SettingWithCopyWarning: \n",
      "A value is trying to be set on a copy of a slice from a DataFrame.\n",
      "Try using .loc[row_indexer,col_indexer] = value instead\n",
      "\n",
      "See the caveats in the documentation: https://pandas.pydata.org/pandas-docs/stable/user_guide/indexing.html#returning-a-view-versus-a-copy\n",
      "  df_slice4['status_masauji']=df_slice4['tgl_masa_uji'].apply(lambda x : status_uji(x))\n"
     ]
    }
   ],
   "source": [
    "df_slice4['status_masauji']=df_slice4['tgl_masa_uji'].apply(lambda x : status_uji(x))\n",
    "\n",
    "print(df_slice4['status_masauji'].unique())"
   ]
  },
  {
   "cell_type": "code",
   "execution_count": 43,
   "id": "3974ed16",
   "metadata": {},
   "outputs": [
    {
     "name": "stdout",
     "output_type": "stream",
     "text": [
      "  status_masauji  kode_sarana\n",
      "0        Expired         9670\n",
      "1  Masih Berlaku         1065\n"
     ]
    }
   ],
   "source": [
    "jumlah_sarana6 = df_slice4.groupby(['status_masauji'])['kode_sarana'].count().reset_index()\n",
    "print(jumlah_sarana6)"
   ]
  },
  {
   "cell_type": "code",
   "execution_count": 44,
   "id": "f8773a36",
   "metadata": {},
   "outputs": [
    {
     "name": "stdout",
     "output_type": "stream",
     "text": [
      "      id kode_sarana kode_sarana_lama  id_kartu jenis_sarana  \\\n",
      "0  14591     K101635              NaN       NaN       Kereta   \n",
      "1  14585     K101629              NaN       NaN       Kereta   \n",
      "2  14583     K101627              NaN       NaN       Kereta   \n",
      "3  16103      P01903              NaN       NaN       Kereta   \n",
      "4  16100     M101903              NaN       NaN       Kereta   \n",
      "\n",
      "   sub_jenis_sarana  seri  tahun_dinas  id_daops  id_depo  ...  \\\n",
      "0                 8   0.0         2016         7       16  ...   \n",
      "1                 8   0.0         2016         7       16  ...   \n",
      "2                 8   0.0         2016         7       16  ...   \n",
      "3                10   0.0         2018         7       16  ...   \n",
      "4                11   0.0         2018         7       16  ...   \n",
      "\n",
      "  tgl_uji_pertama tgl_masa_uji tgl_masa_perawatan pabrikan id_pemilik  \\\n",
      "0      2016-06-08   2019-11-17         0000-00-00  PT INKA          2   \n",
      "1      2016-06-08   2019-11-17         0000-00-00  PT INKA          2   \n",
      "2      2016-06-08   2019-11-17         0000-00-00  PT INKA          2   \n",
      "3      2019-02-01   2020-02-01         0000-00-00  PT INKA          2   \n",
      "4      2019-02-01   2020-02-01         0000-00-00  PT INKA          2   \n",
      "\n",
      "  created_at  last_update  expired_month  expired_year status_masauji  \n",
      "0        NaN          NaN        2019-11          2019        Expired  \n",
      "1        NaN          NaN        2019-11          2019        Expired  \n",
      "2        NaN          NaN        2019-11          2019        Expired  \n",
      "3        NaN          NaN        2020-02          2020        Expired  \n",
      "4        NaN          NaN        2020-02          2020        Expired  \n",
      "\n",
      "[5 rows x 22 columns]\n"
     ]
    }
   ],
   "source": [
    "print(df_slice4.head())"
   ]
  },
  {
   "cell_type": "code",
   "execution_count": null,
   "id": "4adbb449",
   "metadata": {},
   "outputs": [],
   "source": []
  }
 ],
 "metadata": {
  "kernelspec": {
   "display_name": "Python 3",
   "language": "python",
   "name": "python3"
  },
  "language_info": {
   "codemirror_mode": {
    "name": "ipython",
    "version": 3
   },
   "file_extension": ".py",
   "mimetype": "text/x-python",
   "name": "python",
   "nbconvert_exporter": "python",
   "pygments_lexer": "ipython3",
   "version": "3.8.10"
  }
 },
 "nbformat": 4,
 "nbformat_minor": 5
}
