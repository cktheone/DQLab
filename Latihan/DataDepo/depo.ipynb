{
 "cells": [
  {
   "cell_type": "markdown",
   "id": "9f005173",
   "metadata": {},
   "source": [
    "Latihan Olah Dataset Depo\n",
    "- Drop Kolom\n",
    "- Drop NULL Value\n",
    "- Sorting Data Berdasarkan Kolom tertentu\n",
    "- Asign Nomor Urut menggunakan Numpy.arange otomatis\n",
    "- Atur Urutan Kolom\n",
    "- Membuat rekap menggunakan pivot_table\n",
    "- Membuat Pie Chart"
   ]
  },
  {
   "cell_type": "code",
   "execution_count": 1,
   "id": "d699eff1",
   "metadata": {
    "scrolled": false
   },
   "outputs": [
    {
     "data": {
      "text/html": [
       "<div>\n",
       "<style scoped>\n",
       "    .dataframe tbody tr th:only-of-type {\n",
       "        vertical-align: middle;\n",
       "    }\n",
       "\n",
       "    .dataframe tbody tr th {\n",
       "        vertical-align: top;\n",
       "    }\n",
       "\n",
       "    .dataframe thead th {\n",
       "        text-align: right;\n",
       "    }\n",
       "</style>\n",
       "<table border=\"1\" class=\"dataframe\">\n",
       "  <thead>\n",
       "    <tr style=\"text-align: right;\">\n",
       "      <th></th>\n",
       "      <th>ID</th>\n",
       "      <th>Kode_Daop</th>\n",
       "      <th>Nama_Depo</th>\n",
       "      <th>Kode_Pemilik</th>\n",
       "      <th>Jenis</th>\n",
       "      <th>Ket</th>\n",
       "      <th>Koordinat_X</th>\n",
       "      <th>Koordinat_Y</th>\n",
       "      <th>Created_at</th>\n",
       "      <th>Updated_at</th>\n",
       "    </tr>\n",
       "  </thead>\n",
       "  <tbody>\n",
       "    <tr>\n",
       "      <th>0</th>\n",
       "      <td>14</td>\n",
       "      <td>7</td>\n",
       "      <td>Depo Lokomotif Tanah Abang</td>\n",
       "      <td>2</td>\n",
       "      <td>Depo Sarana Penggerak</td>\n",
       "      <td>NaN</td>\n",
       "      <td>-6.184171</td>\n",
       "      <td>106.810808</td>\n",
       "      <td>NaN</td>\n",
       "      <td>NaN</td>\n",
       "    </tr>\n",
       "    <tr>\n",
       "      <th>1</th>\n",
       "      <td>15</td>\n",
       "      <td>7</td>\n",
       "      <td>Depo Lokomotif Cipinang</td>\n",
       "      <td>2</td>\n",
       "      <td>Depo Sarana Penggerak</td>\n",
       "      <td>NaN</td>\n",
       "      <td>-6.214354</td>\n",
       "      <td>106.880702</td>\n",
       "      <td>NaN</td>\n",
       "      <td>NaN</td>\n",
       "    </tr>\n",
       "    <tr>\n",
       "      <th>2</th>\n",
       "      <td>16</td>\n",
       "      <td>7</td>\n",
       "      <td>Depo Kereta JakartaKota</td>\n",
       "      <td>2</td>\n",
       "      <td>Depo Sarana Tanpa Penggerak</td>\n",
       "      <td>NaN</td>\n",
       "      <td>-6.134634</td>\n",
       "      <td>106.823285</td>\n",
       "      <td>NaN</td>\n",
       "      <td>NaN</td>\n",
       "    </tr>\n",
       "    <tr>\n",
       "      <th>3</th>\n",
       "      <td>17</td>\n",
       "      <td>24</td>\n",
       "      <td>Depo KRL BukitDuri</td>\n",
       "      <td>3</td>\n",
       "      <td>Depo Sarana Penggerak</td>\n",
       "      <td>NaN</td>\n",
       "      <td>-6.217738</td>\n",
       "      <td>106.861169</td>\n",
       "      <td>NaN</td>\n",
       "      <td>NaN</td>\n",
       "    </tr>\n",
       "    <tr>\n",
       "      <th>4</th>\n",
       "      <td>18</td>\n",
       "      <td>24</td>\n",
       "      <td>Depo KRL Depok</td>\n",
       "      <td>1</td>\n",
       "      <td>Depo Sarana Penggerak</td>\n",
       "      <td>NaN</td>\n",
       "      <td>-6.416477</td>\n",
       "      <td>106.811902</td>\n",
       "      <td>NaN</td>\n",
       "      <td>NaN</td>\n",
       "    </tr>\n",
       "  </tbody>\n",
       "</table>\n",
       "</div>"
      ],
      "text/plain": [
       "   ID  Kode_Daop                   Nama_Depo  Kode_Pemilik  \\\n",
       "0  14          7  Depo Lokomotif Tanah Abang             2   \n",
       "1  15          7     Depo Lokomotif Cipinang             2   \n",
       "2  16          7     Depo Kereta JakartaKota             2   \n",
       "3  17         24          Depo KRL BukitDuri             3   \n",
       "4  18         24              Depo KRL Depok             1   \n",
       "\n",
       "                         Jenis  Ket  Koordinat_X  Koordinat_Y  Created_at  \\\n",
       "0        Depo Sarana Penggerak  NaN    -6.184171   106.810808         NaN   \n",
       "1        Depo Sarana Penggerak  NaN    -6.214354   106.880702         NaN   \n",
       "2  Depo Sarana Tanpa Penggerak  NaN    -6.134634   106.823285         NaN   \n",
       "3        Depo Sarana Penggerak  NaN    -6.217738   106.861169         NaN   \n",
       "4        Depo Sarana Penggerak  NaN    -6.416477   106.811902         NaN   \n",
       "\n",
       "   Updated_at  \n",
       "0         NaN  \n",
       "1         NaN  \n",
       "2         NaN  \n",
       "3         NaN  \n",
       "4         NaN  "
      ]
     },
     "execution_count": 1,
     "metadata": {},
     "output_type": "execute_result"
    }
   ],
   "source": [
    "import pandas as pd\n",
    "colnames=['ID', 'Kode_Daop', 'Nama_Depo', 'Kode_Pemilik', 'Jenis', 'Ket', 'Koordinat_X', 'Koordinat_Y', 'Created_at', 'Updated_at'] \n",
    "data = pd.read_csv('../data_source/depo/tbldepos_100721.csv', header=None, names=colnames)\n",
    "data.head()\n"
   ]
  },
  {
   "cell_type": "code",
   "execution_count": 2,
   "id": "24401c96",
   "metadata": {
    "scrolled": true
   },
   "outputs": [
    {
     "data": {
      "text/html": [
       "<div>\n",
       "<style scoped>\n",
       "    .dataframe tbody tr th:only-of-type {\n",
       "        vertical-align: middle;\n",
       "    }\n",
       "\n",
       "    .dataframe tbody tr th {\n",
       "        vertical-align: top;\n",
       "    }\n",
       "\n",
       "    .dataframe thead th {\n",
       "        text-align: right;\n",
       "    }\n",
       "</style>\n",
       "<table border=\"1\" class=\"dataframe\">\n",
       "  <thead>\n",
       "    <tr style=\"text-align: right;\">\n",
       "      <th></th>\n",
       "      <th>ID</th>\n",
       "      <th>Kode_Daop</th>\n",
       "      <th>Nama_Depo</th>\n",
       "      <th>Kode_Pemilik</th>\n",
       "      <th>Jenis</th>\n",
       "      <th>Ket</th>\n",
       "      <th>Koordinat_X</th>\n",
       "      <th>Koordinat_Y</th>\n",
       "      <th>Created_at</th>\n",
       "      <th>Updated_at</th>\n",
       "    </tr>\n",
       "  </thead>\n",
       "  <tbody>\n",
       "    <tr>\n",
       "      <th>63</th>\n",
       "      <td>80</td>\n",
       "      <td>11</td>\n",
       "      <td>Depo Mekanik Kroya</td>\n",
       "      <td>2</td>\n",
       "      <td>Depo Sarana Penggerak</td>\n",
       "      <td>NaN</td>\n",
       "      <td>-7.629424</td>\n",
       "      <td>109.115655</td>\n",
       "      <td>NaN</td>\n",
       "      <td>NaN</td>\n",
       "    </tr>\n",
       "    <tr>\n",
       "      <th>64</th>\n",
       "      <td>81</td>\n",
       "      <td>13</td>\n",
       "      <td>Depo Mekanik Madiun</td>\n",
       "      <td>2</td>\n",
       "      <td>Depo Sarana Penggerak</td>\n",
       "      <td>NaN</td>\n",
       "      <td>-7.619409</td>\n",
       "      <td>111.526689</td>\n",
       "      <td>NaN</td>\n",
       "      <td>NaN</td>\n",
       "    </tr>\n",
       "    <tr>\n",
       "      <th>65</th>\n",
       "      <td>82</td>\n",
       "      <td>9</td>\n",
       "      <td>Depo Gerbong Arjowinangun</td>\n",
       "      <td>2</td>\n",
       "      <td>Depo Sarana Tanpa Penggerak</td>\n",
       "      <td>NaN</td>\n",
       "      <td>-6.644540</td>\n",
       "      <td>108.411692</td>\n",
       "      <td>NaN</td>\n",
       "      <td>NaN</td>\n",
       "    </tr>\n",
       "    <tr>\n",
       "      <th>66</th>\n",
       "      <td>83</td>\n",
       "      <td>12</td>\n",
       "      <td>Depo Gerbong Rowulu</td>\n",
       "      <td>2</td>\n",
       "      <td>Depo Sarana Tanpa Penggerak</td>\n",
       "      <td>NaN</td>\n",
       "      <td>-7.797919</td>\n",
       "      <td>110.276980</td>\n",
       "      <td>NaN</td>\n",
       "      <td>NaN</td>\n",
       "    </tr>\n",
       "    <tr>\n",
       "      <th>67</th>\n",
       "      <td>84</td>\n",
       "      <td>17</td>\n",
       "      <td>Depo Gerbong BukitPutus</td>\n",
       "      <td>2</td>\n",
       "      <td>Depo Sarana Tanpa Penggerak</td>\n",
       "      <td>NaN</td>\n",
       "      <td>-0.986319</td>\n",
       "      <td>100.384411</td>\n",
       "      <td>NaN</td>\n",
       "      <td>NaN</td>\n",
       "    </tr>\n",
       "  </tbody>\n",
       "</table>\n",
       "</div>"
      ],
      "text/plain": [
       "    ID  Kode_Daop                  Nama_Depo  Kode_Pemilik  \\\n",
       "63  80         11         Depo Mekanik Kroya             2   \n",
       "64  81         13        Depo Mekanik Madiun             2   \n",
       "65  82          9  Depo Gerbong Arjowinangun             2   \n",
       "66  83         12        Depo Gerbong Rowulu             2   \n",
       "67  84         17    Depo Gerbong BukitPutus             2   \n",
       "\n",
       "                          Jenis  Ket  Koordinat_X  Koordinat_Y  Created_at  \\\n",
       "63        Depo Sarana Penggerak  NaN    -7.629424   109.115655         NaN   \n",
       "64        Depo Sarana Penggerak  NaN    -7.619409   111.526689         NaN   \n",
       "65  Depo Sarana Tanpa Penggerak  NaN    -6.644540   108.411692         NaN   \n",
       "66  Depo Sarana Tanpa Penggerak  NaN    -7.797919   110.276980         NaN   \n",
       "67  Depo Sarana Tanpa Penggerak  NaN    -0.986319   100.384411         NaN   \n",
       "\n",
       "    Updated_at  \n",
       "63         NaN  \n",
       "64         NaN  \n",
       "65         NaN  \n",
       "66         NaN  \n",
       "67         NaN  "
      ]
     },
     "execution_count": 2,
     "metadata": {},
     "output_type": "execute_result"
    }
   ],
   "source": [
    "data.tail()\n"
   ]
  },
  {
   "cell_type": "code",
   "execution_count": 3,
   "id": "ae2df3cd",
   "metadata": {
    "scrolled": true
   },
   "outputs": [
    {
     "data": {
      "text/html": [
       "<div>\n",
       "<style scoped>\n",
       "    .dataframe tbody tr th:only-of-type {\n",
       "        vertical-align: middle;\n",
       "    }\n",
       "\n",
       "    .dataframe tbody tr th {\n",
       "        vertical-align: top;\n",
       "    }\n",
       "\n",
       "    .dataframe thead th {\n",
       "        text-align: right;\n",
       "    }\n",
       "</style>\n",
       "<table border=\"1\" class=\"dataframe\">\n",
       "  <thead>\n",
       "    <tr style=\"text-align: right;\">\n",
       "      <th></th>\n",
       "      <th>id</th>\n",
       "      <th>nama_pemilik</th>\n",
       "    </tr>\n",
       "  </thead>\n",
       "  <tbody>\n",
       "    <tr>\n",
       "      <th>0</th>\n",
       "      <td>1</td>\n",
       "      <td>Ditjen Perkeretaapian</td>\n",
       "    </tr>\n",
       "    <tr>\n",
       "      <th>1</th>\n",
       "      <td>2</td>\n",
       "      <td>PT Kereta Api Indonesia (Persero)</td>\n",
       "    </tr>\n",
       "    <tr>\n",
       "      <th>2</th>\n",
       "      <td>3</td>\n",
       "      <td>PT Kereta Commuter Indonesia</td>\n",
       "    </tr>\n",
       "    <tr>\n",
       "      <th>3</th>\n",
       "      <td>4</td>\n",
       "      <td>PT Railink</td>\n",
       "    </tr>\n",
       "    <tr>\n",
       "      <th>4</th>\n",
       "      <td>5</td>\n",
       "      <td>PT MRT Jakarta</td>\n",
       "    </tr>\n",
       "  </tbody>\n",
       "</table>\n",
       "</div>"
      ],
      "text/plain": [
       "   id                       nama_pemilik\n",
       "0   1              Ditjen Perkeretaapian\n",
       "1   2  PT Kereta Api Indonesia (Persero)\n",
       "2   3       PT Kereta Commuter Indonesia\n",
       "3   4                         PT Railink\n",
       "4   5                     PT MRT Jakarta"
      ]
     },
     "execution_count": 3,
     "metadata": {},
     "output_type": "execute_result"
    }
   ],
   "source": [
    "col_pemilik=['id', 'nama_pemilik', 'alamat'] \n",
    "df_pemilik = pd.read_csv('../data_source/datsar/tblpemiliksaranas.csv', names=col_pemilik, usecols=['id', 'nama_pemilik', 'alamat'])\n",
    "df_pemilik.drop(columns =['alamat'], inplace=True)\n",
    "df_pemilik.head()"
   ]
  },
  {
   "cell_type": "code",
   "execution_count": 4,
   "id": "49f88394",
   "metadata": {
    "scrolled": false
   },
   "outputs": [
    {
     "data": {
      "text/html": [
       "<div>\n",
       "<style scoped>\n",
       "    .dataframe tbody tr th:only-of-type {\n",
       "        vertical-align: middle;\n",
       "    }\n",
       "\n",
       "    .dataframe tbody tr th {\n",
       "        vertical-align: top;\n",
       "    }\n",
       "\n",
       "    .dataframe thead th {\n",
       "        text-align: right;\n",
       "    }\n",
       "</style>\n",
       "<table border=\"1\" class=\"dataframe\">\n",
       "  <thead>\n",
       "    <tr style=\"text-align: right;\">\n",
       "      <th></th>\n",
       "      <th>id</th>\n",
       "      <th>nama_daop</th>\n",
       "    </tr>\n",
       "  </thead>\n",
       "  <tbody>\n",
       "    <tr>\n",
       "      <th>0</th>\n",
       "      <td>7</td>\n",
       "      <td>DAOP 1 JAKARTA</td>\n",
       "    </tr>\n",
       "    <tr>\n",
       "      <th>1</th>\n",
       "      <td>8</td>\n",
       "      <td>DAOP 2 BANDUNG</td>\n",
       "    </tr>\n",
       "    <tr>\n",
       "      <th>2</th>\n",
       "      <td>9</td>\n",
       "      <td>DAOP 3 CIREBON</td>\n",
       "    </tr>\n",
       "    <tr>\n",
       "      <th>3</th>\n",
       "      <td>10</td>\n",
       "      <td>DAOP 4 SEMARANG</td>\n",
       "    </tr>\n",
       "    <tr>\n",
       "      <th>4</th>\n",
       "      <td>11</td>\n",
       "      <td>DAOP 5 PURWOKERTO</td>\n",
       "    </tr>\n",
       "  </tbody>\n",
       "</table>\n",
       "</div>"
      ],
      "text/plain": [
       "   id          nama_daop\n",
       "0   7     DAOP 1 JAKARTA\n",
       "1   8     DAOP 2 BANDUNG\n",
       "2   9     DAOP 3 CIREBON\n",
       "3  10    DAOP 4 SEMARANG\n",
       "4  11  DAOP 5 PURWOKERTO"
      ]
     },
     "execution_count": 4,
     "metadata": {},
     "output_type": "execute_result"
    }
   ],
   "source": [
    "col_daop =['id', 'nama_daop'] \n",
    "df_daop = pd.read_csv('../data_source/datsar/tbldaops_updatebtp.csv', names=col_daop, usecols=['id', 'nama_daop'])\n",
    "df_daop.head()"
   ]
  },
  {
   "cell_type": "code",
   "execution_count": 5,
   "id": "237e7e6c",
   "metadata": {},
   "outputs": [
    {
     "name": "stdout",
     "output_type": "stream",
     "text": [
      "   ID                   Nama_Depo                        Jenis  Ket  \\\n",
      "7  14  Depo Lokomotif Tanah Abang        Depo Sarana Penggerak  NaN   \n",
      "7  15     Depo Lokomotif Cipinang        Depo Sarana Penggerak  NaN   \n",
      "7  16     Depo Kereta JakartaKota  Depo Sarana Tanpa Penggerak  NaN   \n",
      "7  19  Depo Gerbong JakartaGudang  Depo Sarana Tanpa Penggerak  NaN   \n",
      "7  57  Depo Kereta Rangkas Bitung  Depo Sarana Tanpa Penggerak  NaN   \n",
      "\n",
      "   Koordinat_X  Koordinat_Y  Created_at  Updated_at  \\\n",
      "7    -6.184171   106.810808         NaN         NaN   \n",
      "7    -6.214354   106.880702         NaN         NaN   \n",
      "7    -6.134634   106.823285         NaN         NaN   \n",
      "7    -6.133301   106.818028         NaN         NaN   \n",
      "7    -6.352703   106.253297         NaN         NaN   \n",
      "\n",
      "                        nama_pemilik       nama_daop  \n",
      "7  PT Kereta Api Indonesia (Persero)  DAOP 1 JAKARTA  \n",
      "7  PT Kereta Api Indonesia (Persero)  DAOP 1 JAKARTA  \n",
      "7  PT Kereta Api Indonesia (Persero)  DAOP 1 JAKARTA  \n",
      "7  PT Kereta Api Indonesia (Persero)  DAOP 1 JAKARTA  \n",
      "7  PT Kereta Api Indonesia (Persero)  DAOP 1 JAKARTA  \n",
      "    ID                     Nama_Depo                        Jenis  Ket  \\\n",
      "26  66  Depo Lokomotif TanjungKarang        Depo Sarana Penggerak  NaN   \n",
      "26  68          Depo Gerbong Tarahan  Depo Sarana Tanpa Penggerak  NaN   \n",
      "27  74          Depo MRT Lebak Bulus        Depo Sarana Penggerak  NaN   \n",
      "27  76         Depo LRT KelapaGading        Depo Sarana Penggerak  NaN   \n",
      "27  78      Depo APMS Bandara Soetta        Depo Sarana Penggerak  NaN   \n",
      "\n",
      "    Koordinat_X  Koordinat_Y  Created_at  Updated_at  \\\n",
      "26    -5.406307   105.261059         NaN         NaN   \n",
      "26    -5.502397   105.333264         NaN         NaN   \n",
      "27    -6.290257   106.773462         NaN         NaN   \n",
      "27    -6.157469   106.913267         NaN         NaN   \n",
      "27    -6.128482   106.650819         NaN         NaN   \n",
      "\n",
      "                         nama_pemilik         nama_daop  \n",
      "26  PT Kereta Api Indonesia (Persero)  DIVRE IV LAMPUNG  \n",
      "26  PT Kereta Api Indonesia (Persero)  DIVRE IV LAMPUNG  \n",
      "27                     PT MRT Jakarta  PROV DKI JAKARTA  \n",
      "27                     PT LRT Jakarta  PROV DKI JAKARTA  \n",
      "27                 PT Angkasa Pura II  PROV DKI JAKARTA  \n"
     ]
    }
   ],
   "source": [
    "join_df = data.set_index('Kode_Pemilik').join(df_pemilik.set_index('id'), how='left')\n",
    "join_df2 = join_df.set_index('Kode_Daop').join(df_daop.set_index('id'), how='left')\n",
    "print(join_df2.head())\n",
    "print(join_df2.tail())"
   ]
  },
  {
   "cell_type": "code",
   "execution_count": 6,
   "id": "f4409425",
   "metadata": {},
   "outputs": [],
   "source": [
    "data_depo_all = join_df2[['ID', 'nama_daop', 'Nama_Depo', 'nama_pemilik', 'Jenis', 'Koordinat_X', 'Koordinat_Y']]"
   ]
  },
  {
   "cell_type": "code",
   "execution_count": 7,
   "id": "baf44821",
   "metadata": {},
   "outputs": [
    {
     "data": {
      "text/plain": [
       "(68, 10)"
      ]
     },
     "execution_count": 7,
     "metadata": {},
     "output_type": "execute_result"
    }
   ],
   "source": [
    "data.shape"
   ]
  },
  {
   "cell_type": "code",
   "execution_count": 8,
   "id": "8fe189a4",
   "metadata": {},
   "outputs": [
    {
     "data": {
      "text/plain": [
       "(68, 7)"
      ]
     },
     "execution_count": 8,
     "metadata": {},
     "output_type": "execute_result"
    }
   ],
   "source": [
    "data_depo_all.shape"
   ]
  },
  {
   "cell_type": "code",
   "execution_count": 9,
   "id": "9f4d41b1",
   "metadata": {},
   "outputs": [],
   "source": [
    "data_depo_all.columns = data_depo_all.columns.str.upper()"
   ]
  },
  {
   "cell_type": "code",
   "execution_count": 10,
   "id": "66b5ce09",
   "metadata": {
    "scrolled": true
   },
   "outputs": [
    {
     "data": {
      "text/html": [
       "<div>\n",
       "<style scoped>\n",
       "    .dataframe tbody tr th:only-of-type {\n",
       "        vertical-align: middle;\n",
       "    }\n",
       "\n",
       "    .dataframe tbody tr th {\n",
       "        vertical-align: top;\n",
       "    }\n",
       "\n",
       "    .dataframe thead th {\n",
       "        text-align: right;\n",
       "    }\n",
       "</style>\n",
       "<table border=\"1\" class=\"dataframe\">\n",
       "  <thead>\n",
       "    <tr style=\"text-align: right;\">\n",
       "      <th></th>\n",
       "      <th>ID</th>\n",
       "      <th>NAMA_DAOP</th>\n",
       "      <th>NAMA_DEPO</th>\n",
       "      <th>NAMA_PEMILIK</th>\n",
       "      <th>JENIS</th>\n",
       "      <th>KOORDINAT_X</th>\n",
       "      <th>KOORDINAT_Y</th>\n",
       "    </tr>\n",
       "  </thead>\n",
       "  <tbody>\n",
       "    <tr>\n",
       "      <th>7</th>\n",
       "      <td>14</td>\n",
       "      <td>DAOP 1 JAKARTA</td>\n",
       "      <td>Depo Lokomotif Tanah Abang</td>\n",
       "      <td>PT Kereta Api Indonesia (Persero)</td>\n",
       "      <td>Depo Sarana Penggerak</td>\n",
       "      <td>-6.184171</td>\n",
       "      <td>106.810808</td>\n",
       "    </tr>\n",
       "    <tr>\n",
       "      <th>7</th>\n",
       "      <td>15</td>\n",
       "      <td>DAOP 1 JAKARTA</td>\n",
       "      <td>Depo Lokomotif Cipinang</td>\n",
       "      <td>PT Kereta Api Indonesia (Persero)</td>\n",
       "      <td>Depo Sarana Penggerak</td>\n",
       "      <td>-6.214354</td>\n",
       "      <td>106.880702</td>\n",
       "    </tr>\n",
       "    <tr>\n",
       "      <th>7</th>\n",
       "      <td>16</td>\n",
       "      <td>DAOP 1 JAKARTA</td>\n",
       "      <td>Depo Kereta JakartaKota</td>\n",
       "      <td>PT Kereta Api Indonesia (Persero)</td>\n",
       "      <td>Depo Sarana Tanpa Penggerak</td>\n",
       "      <td>-6.134634</td>\n",
       "      <td>106.823285</td>\n",
       "    </tr>\n",
       "    <tr>\n",
       "      <th>7</th>\n",
       "      <td>19</td>\n",
       "      <td>DAOP 1 JAKARTA</td>\n",
       "      <td>Depo Gerbong JakartaGudang</td>\n",
       "      <td>PT Kereta Api Indonesia (Persero)</td>\n",
       "      <td>Depo Sarana Tanpa Penggerak</td>\n",
       "      <td>-6.133301</td>\n",
       "      <td>106.818028</td>\n",
       "    </tr>\n",
       "    <tr>\n",
       "      <th>7</th>\n",
       "      <td>57</td>\n",
       "      <td>DAOP 1 JAKARTA</td>\n",
       "      <td>Depo Kereta Rangkas Bitung</td>\n",
       "      <td>PT Kereta Api Indonesia (Persero)</td>\n",
       "      <td>Depo Sarana Tanpa Penggerak</td>\n",
       "      <td>-6.352703</td>\n",
       "      <td>106.253297</td>\n",
       "    </tr>\n",
       "    <tr>\n",
       "      <th>...</th>\n",
       "      <td>...</td>\n",
       "      <td>...</td>\n",
       "      <td>...</td>\n",
       "      <td>...</td>\n",
       "      <td>...</td>\n",
       "      <td>...</td>\n",
       "      <td>...</td>\n",
       "    </tr>\n",
       "    <tr>\n",
       "      <th>26</th>\n",
       "      <td>66</td>\n",
       "      <td>DIVRE IV LAMPUNG</td>\n",
       "      <td>Depo Lokomotif TanjungKarang</td>\n",
       "      <td>PT Kereta Api Indonesia (Persero)</td>\n",
       "      <td>Depo Sarana Penggerak</td>\n",
       "      <td>-5.406307</td>\n",
       "      <td>105.261059</td>\n",
       "    </tr>\n",
       "    <tr>\n",
       "      <th>26</th>\n",
       "      <td>68</td>\n",
       "      <td>DIVRE IV LAMPUNG</td>\n",
       "      <td>Depo Gerbong Tarahan</td>\n",
       "      <td>PT Kereta Api Indonesia (Persero)</td>\n",
       "      <td>Depo Sarana Tanpa Penggerak</td>\n",
       "      <td>-5.502397</td>\n",
       "      <td>105.333264</td>\n",
       "    </tr>\n",
       "    <tr>\n",
       "      <th>27</th>\n",
       "      <td>74</td>\n",
       "      <td>PROV DKI JAKARTA</td>\n",
       "      <td>Depo MRT Lebak Bulus</td>\n",
       "      <td>PT MRT Jakarta</td>\n",
       "      <td>Depo Sarana Penggerak</td>\n",
       "      <td>-6.290257</td>\n",
       "      <td>106.773462</td>\n",
       "    </tr>\n",
       "    <tr>\n",
       "      <th>27</th>\n",
       "      <td>76</td>\n",
       "      <td>PROV DKI JAKARTA</td>\n",
       "      <td>Depo LRT KelapaGading</td>\n",
       "      <td>PT LRT Jakarta</td>\n",
       "      <td>Depo Sarana Penggerak</td>\n",
       "      <td>-6.157469</td>\n",
       "      <td>106.913267</td>\n",
       "    </tr>\n",
       "    <tr>\n",
       "      <th>27</th>\n",
       "      <td>78</td>\n",
       "      <td>PROV DKI JAKARTA</td>\n",
       "      <td>Depo APMS Bandara Soetta</td>\n",
       "      <td>PT Angkasa Pura II</td>\n",
       "      <td>Depo Sarana Penggerak</td>\n",
       "      <td>-6.128482</td>\n",
       "      <td>106.650819</td>\n",
       "    </tr>\n",
       "  </tbody>\n",
       "</table>\n",
       "<p>68 rows × 7 columns</p>\n",
       "</div>"
      ],
      "text/plain": [
       "    ID         NAMA_DAOP                     NAMA_DEPO  \\\n",
       "7   14    DAOP 1 JAKARTA    Depo Lokomotif Tanah Abang   \n",
       "7   15    DAOP 1 JAKARTA       Depo Lokomotif Cipinang   \n",
       "7   16    DAOP 1 JAKARTA       Depo Kereta JakartaKota   \n",
       "7   19    DAOP 1 JAKARTA    Depo Gerbong JakartaGudang   \n",
       "7   57    DAOP 1 JAKARTA    Depo Kereta Rangkas Bitung   \n",
       "..  ..               ...                           ...   \n",
       "26  66  DIVRE IV LAMPUNG  Depo Lokomotif TanjungKarang   \n",
       "26  68  DIVRE IV LAMPUNG          Depo Gerbong Tarahan   \n",
       "27  74  PROV DKI JAKARTA          Depo MRT Lebak Bulus   \n",
       "27  76  PROV DKI JAKARTA         Depo LRT KelapaGading   \n",
       "27  78  PROV DKI JAKARTA      Depo APMS Bandara Soetta   \n",
       "\n",
       "                         NAMA_PEMILIK                        JENIS  \\\n",
       "7   PT Kereta Api Indonesia (Persero)        Depo Sarana Penggerak   \n",
       "7   PT Kereta Api Indonesia (Persero)        Depo Sarana Penggerak   \n",
       "7   PT Kereta Api Indonesia (Persero)  Depo Sarana Tanpa Penggerak   \n",
       "7   PT Kereta Api Indonesia (Persero)  Depo Sarana Tanpa Penggerak   \n",
       "7   PT Kereta Api Indonesia (Persero)  Depo Sarana Tanpa Penggerak   \n",
       "..                                ...                          ...   \n",
       "26  PT Kereta Api Indonesia (Persero)        Depo Sarana Penggerak   \n",
       "26  PT Kereta Api Indonesia (Persero)  Depo Sarana Tanpa Penggerak   \n",
       "27                     PT MRT Jakarta        Depo Sarana Penggerak   \n",
       "27                     PT LRT Jakarta        Depo Sarana Penggerak   \n",
       "27                 PT Angkasa Pura II        Depo Sarana Penggerak   \n",
       "\n",
       "    KOORDINAT_X  KOORDINAT_Y  \n",
       "7     -6.184171   106.810808  \n",
       "7     -6.214354   106.880702  \n",
       "7     -6.134634   106.823285  \n",
       "7     -6.133301   106.818028  \n",
       "7     -6.352703   106.253297  \n",
       "..          ...          ...  \n",
       "26    -5.406307   105.261059  \n",
       "26    -5.502397   105.333264  \n",
       "27    -6.290257   106.773462  \n",
       "27    -6.157469   106.913267  \n",
       "27    -6.128482   106.650819  \n",
       "\n",
       "[68 rows x 7 columns]"
      ]
     },
     "execution_count": 10,
     "metadata": {},
     "output_type": "execute_result"
    }
   ],
   "source": [
    "data_depo_all"
   ]
  },
  {
   "cell_type": "code",
   "execution_count": 11,
   "id": "57ee0a0e",
   "metadata": {
    "scrolled": true
   },
   "outputs": [
    {
     "name": "stderr",
     "output_type": "stream",
     "text": [
      "<ipython-input-11-1caddb501248>:1: SettingWithCopyWarning: \n",
      "A value is trying to be set on a copy of a slice from a DataFrame.\n",
      "Try using .loc[row_indexer,col_indexer] = value instead\n",
      "\n",
      "See the caveats in the documentation: https://pandas.pydata.org/pandas-docs/stable/user_guide/indexing.html#returning-a-view-versus-a-copy\n",
      "  data_depo_all['NAMA_DEPO'] = data_depo_all['NAMA_DEPO'].str.upper()\n"
     ]
    }
   ],
   "source": [
    "data_depo_all['NAMA_DEPO'] = data_depo_all['NAMA_DEPO'].str.upper()"
   ]
  },
  {
   "cell_type": "code",
   "execution_count": 12,
   "id": "81ba6fdc",
   "metadata": {
    "scrolled": true
   },
   "outputs": [
    {
     "name": "stderr",
     "output_type": "stream",
     "text": [
      "<ipython-input-12-f55271235919>:1: SettingWithCopyWarning: \n",
      "A value is trying to be set on a copy of a slice from a DataFrame.\n",
      "Try using .loc[row_indexer,col_indexer] = value instead\n",
      "\n",
      "See the caveats in the documentation: https://pandas.pydata.org/pandas-docs/stable/user_guide/indexing.html#returning-a-view-versus-a-copy\n",
      "  data_depo_all['NAMA_DEPO'] = data_depo_all['NAMA_DEPO'].str.strip()\n"
     ]
    }
   ],
   "source": [
    "data_depo_all['NAMA_DEPO'] = data_depo_all['NAMA_DEPO'].str.strip()"
   ]
  },
  {
   "cell_type": "code",
   "execution_count": 13,
   "id": "68a4db3a",
   "metadata": {
    "scrolled": true
   },
   "outputs": [
    {
     "data": {
      "text/plain": [
       "ID                int64\n",
       "NAMA_DAOP        object\n",
       "NAMA_DEPO        object\n",
       "NAMA_PEMILIK     object\n",
       "JENIS            object\n",
       "KOORDINAT_X     float64\n",
       "KOORDINAT_Y     float64\n",
       "dtype: object"
      ]
     },
     "execution_count": 13,
     "metadata": {},
     "output_type": "execute_result"
    }
   ],
   "source": [
    "data_depo_all.dtypes"
   ]
  },
  {
   "cell_type": "code",
   "execution_count": 14,
   "id": "3311fad2",
   "metadata": {
    "scrolled": true
   },
   "outputs": [],
   "source": [
    "#data_depo_all['KOORDINAT_X'] = data_depo_all['KOORDINAT_X'].astype('str')\n",
    "#data_depo_all['KOORDINAT_Y'] = data_depo_all['KOORDINAT_Y'].astype('str')\n"
   ]
  },
  {
   "cell_type": "code",
   "execution_count": 27,
   "id": "cb64ebb5",
   "metadata": {},
   "outputs": [],
   "source": [
    "data_depo_all['KOORDINAT_X'] = data_depo_all['KOORDINAT_X'].map(lambda x : round(x, 6))"
   ]
  },
  {
   "cell_type": "code",
   "execution_count": 28,
   "id": "e47ec742",
   "metadata": {},
   "outputs": [],
   "source": [
    "data_depo_all['KOORDINAT_Y'] = data_depo_all['KOORDINAT_Y'].map(lambda x : round(x, 6))"
   ]
  },
  {
   "cell_type": "code",
   "execution_count": 29,
   "id": "6cee79bb",
   "metadata": {},
   "outputs": [
    {
     "data": {
      "text/html": [
       "<div>\n",
       "<style scoped>\n",
       "    .dataframe tbody tr th:only-of-type {\n",
       "        vertical-align: middle;\n",
       "    }\n",
       "\n",
       "    .dataframe tbody tr th {\n",
       "        vertical-align: top;\n",
       "    }\n",
       "\n",
       "    .dataframe thead th {\n",
       "        text-align: right;\n",
       "    }\n",
       "</style>\n",
       "<table border=\"1\" class=\"dataframe\">\n",
       "  <thead>\n",
       "    <tr style=\"text-align: right;\">\n",
       "      <th></th>\n",
       "      <th>ID</th>\n",
       "      <th>NAMA_DAOP</th>\n",
       "      <th>NAMA_DEPO</th>\n",
       "      <th>NAMA_PEMILIK</th>\n",
       "      <th>JENIS</th>\n",
       "      <th>KOORDINAT_X</th>\n",
       "      <th>KOORDINAT_Y</th>\n",
       "    </tr>\n",
       "  </thead>\n",
       "  <tbody>\n",
       "    <tr>\n",
       "      <th>25</th>\n",
       "      <td>71</td>\n",
       "      <td>BALAI PERAWATAN</td>\n",
       "      <td>BALAI PERAWATAN</td>\n",
       "      <td>Ditjen Perkeretaapian</td>\n",
       "      <td>Depo Sarana Penggerak</td>\n",
       "      <td>-7.143495</td>\n",
       "      <td>110.897592</td>\n",
       "    </tr>\n",
       "    <tr>\n",
       "      <th>7</th>\n",
       "      <td>19</td>\n",
       "      <td>DAOP 1 JAKARTA</td>\n",
       "      <td>DEPO GERBONG JAKARTAGUDANG</td>\n",
       "      <td>PT Kereta Api Indonesia (Persero)</td>\n",
       "      <td>Depo Sarana Tanpa Penggerak</td>\n",
       "      <td>-6.133301</td>\n",
       "      <td>106.818028</td>\n",
       "    </tr>\n",
       "    <tr>\n",
       "      <th>7</th>\n",
       "      <td>16</td>\n",
       "      <td>DAOP 1 JAKARTA</td>\n",
       "      <td>DEPO KERETA JAKARTAKOTA</td>\n",
       "      <td>PT Kereta Api Indonesia (Persero)</td>\n",
       "      <td>Depo Sarana Tanpa Penggerak</td>\n",
       "      <td>-6.134634</td>\n",
       "      <td>106.823285</td>\n",
       "    </tr>\n",
       "    <tr>\n",
       "      <th>7</th>\n",
       "      <td>67</td>\n",
       "      <td>DAOP 1 JAKARTA</td>\n",
       "      <td>DEPO KERETA JAKARTAMANGGARAI</td>\n",
       "      <td>PT Kereta Api Indonesia (Persero)</td>\n",
       "      <td>Depo Sarana Tanpa Penggerak</td>\n",
       "      <td>-6.212081</td>\n",
       "      <td>106.846845</td>\n",
       "    </tr>\n",
       "    <tr>\n",
       "      <th>7</th>\n",
       "      <td>57</td>\n",
       "      <td>DAOP 1 JAKARTA</td>\n",
       "      <td>DEPO KERETA RANGKAS BITUNG</td>\n",
       "      <td>PT Kereta Api Indonesia (Persero)</td>\n",
       "      <td>Depo Sarana Tanpa Penggerak</td>\n",
       "      <td>-6.352703</td>\n",
       "      <td>106.253297</td>\n",
       "    </tr>\n",
       "    <tr>\n",
       "      <th>...</th>\n",
       "      <td>...</td>\n",
       "      <td>...</td>\n",
       "      <td>...</td>\n",
       "      <td>...</td>\n",
       "      <td>...</td>\n",
       "      <td>...</td>\n",
       "      <td>...</td>\n",
       "    </tr>\n",
       "    <tr>\n",
       "      <th>27</th>\n",
       "      <td>76</td>\n",
       "      <td>PROV DKI JAKARTA</td>\n",
       "      <td>DEPO LRT KELAPAGADING</td>\n",
       "      <td>PT LRT Jakarta</td>\n",
       "      <td>Depo Sarana Penggerak</td>\n",
       "      <td>-6.157469</td>\n",
       "      <td>106.913267</td>\n",
       "    </tr>\n",
       "    <tr>\n",
       "      <th>27</th>\n",
       "      <td>74</td>\n",
       "      <td>PROV DKI JAKARTA</td>\n",
       "      <td>DEPO MRT LEBAK BULUS</td>\n",
       "      <td>PT MRT Jakarta</td>\n",
       "      <td>Depo Sarana Penggerak</td>\n",
       "      <td>-6.290257</td>\n",
       "      <td>106.773462</td>\n",
       "    </tr>\n",
       "    <tr>\n",
       "      <th>24</th>\n",
       "      <td>42</td>\n",
       "      <td>PT KAI COMMUTER JABOTABEK</td>\n",
       "      <td>DEPO KRL BOGOR</td>\n",
       "      <td>PT Kereta Commuter Indonesia</td>\n",
       "      <td>Depo Sarana Penggerak</td>\n",
       "      <td>-6.591201</td>\n",
       "      <td>106.791453</td>\n",
       "    </tr>\n",
       "    <tr>\n",
       "      <th>24</th>\n",
       "      <td>17</td>\n",
       "      <td>PT KAI COMMUTER JABOTABEK</td>\n",
       "      <td>DEPO KRL BUKITDURI</td>\n",
       "      <td>PT Kereta Commuter Indonesia</td>\n",
       "      <td>Depo Sarana Penggerak</td>\n",
       "      <td>-6.217738</td>\n",
       "      <td>106.861169</td>\n",
       "    </tr>\n",
       "    <tr>\n",
       "      <th>24</th>\n",
       "      <td>18</td>\n",
       "      <td>PT KAI COMMUTER JABOTABEK</td>\n",
       "      <td>DEPO KRL DEPOK</td>\n",
       "      <td>Ditjen Perkeretaapian</td>\n",
       "      <td>Depo Sarana Penggerak</td>\n",
       "      <td>-6.416477</td>\n",
       "      <td>106.811902</td>\n",
       "    </tr>\n",
       "  </tbody>\n",
       "</table>\n",
       "<p>68 rows × 7 columns</p>\n",
       "</div>"
      ],
      "text/plain": [
       "    ID                  NAMA_DAOP                     NAMA_DEPO  \\\n",
       "25  71            BALAI PERAWATAN               BALAI PERAWATAN   \n",
       "7   19             DAOP 1 JAKARTA    DEPO GERBONG JAKARTAGUDANG   \n",
       "7   16             DAOP 1 JAKARTA       DEPO KERETA JAKARTAKOTA   \n",
       "7   67             DAOP 1 JAKARTA  DEPO KERETA JAKARTAMANGGARAI   \n",
       "7   57             DAOP 1 JAKARTA    DEPO KERETA RANGKAS BITUNG   \n",
       "..  ..                        ...                           ...   \n",
       "27  76           PROV DKI JAKARTA         DEPO LRT KELAPAGADING   \n",
       "27  74           PROV DKI JAKARTA          DEPO MRT LEBAK BULUS   \n",
       "24  42  PT KAI COMMUTER JABOTABEK                DEPO KRL BOGOR   \n",
       "24  17  PT KAI COMMUTER JABOTABEK            DEPO KRL BUKITDURI   \n",
       "24  18  PT KAI COMMUTER JABOTABEK                DEPO KRL DEPOK   \n",
       "\n",
       "                         NAMA_PEMILIK                        JENIS  \\\n",
       "25              Ditjen Perkeretaapian        Depo Sarana Penggerak   \n",
       "7   PT Kereta Api Indonesia (Persero)  Depo Sarana Tanpa Penggerak   \n",
       "7   PT Kereta Api Indonesia (Persero)  Depo Sarana Tanpa Penggerak   \n",
       "7   PT Kereta Api Indonesia (Persero)  Depo Sarana Tanpa Penggerak   \n",
       "7   PT Kereta Api Indonesia (Persero)  Depo Sarana Tanpa Penggerak   \n",
       "..                                ...                          ...   \n",
       "27                     PT LRT Jakarta        Depo Sarana Penggerak   \n",
       "27                     PT MRT Jakarta        Depo Sarana Penggerak   \n",
       "24       PT Kereta Commuter Indonesia        Depo Sarana Penggerak   \n",
       "24       PT Kereta Commuter Indonesia        Depo Sarana Penggerak   \n",
       "24              Ditjen Perkeretaapian        Depo Sarana Penggerak   \n",
       "\n",
       "    KOORDINAT_X  KOORDINAT_Y  \n",
       "25    -7.143495   110.897592  \n",
       "7     -6.133301   106.818028  \n",
       "7     -6.134634   106.823285  \n",
       "7     -6.212081   106.846845  \n",
       "7     -6.352703   106.253297  \n",
       "..          ...          ...  \n",
       "27    -6.157469   106.913267  \n",
       "27    -6.290257   106.773462  \n",
       "24    -6.591201   106.791453  \n",
       "24    -6.217738   106.861169  \n",
       "24    -6.416477   106.811902  \n",
       "\n",
       "[68 rows x 7 columns]"
      ]
     },
     "execution_count": 29,
     "metadata": {},
     "output_type": "execute_result"
    }
   ],
   "source": [
    "data_depo_all"
   ]
  },
  {
   "cell_type": "code",
   "execution_count": null,
   "id": "04aa298a",
   "metadata": {},
   "outputs": [],
   "source": []
  },
  {
   "cell_type": "code",
   "execution_count": 15,
   "id": "640e6a3f",
   "metadata": {},
   "outputs": [
    {
     "data": {
      "text/plain": [
       "ID              0\n",
       "NAMA_DAOP       0\n",
       "NAMA_DEPO       0\n",
       "NAMA_PEMILIK    0\n",
       "JENIS           0\n",
       "KOORDINAT_X     0\n",
       "KOORDINAT_Y     0\n",
       "dtype: int64"
      ]
     },
     "execution_count": 15,
     "metadata": {},
     "output_type": "execute_result"
    }
   ],
   "source": [
    "data_depo_all.isna().sum()"
   ]
  },
  {
   "cell_type": "code",
   "execution_count": 16,
   "id": "94d03344",
   "metadata": {
    "scrolled": true
   },
   "outputs": [
    {
     "data": {
      "text/plain": [
       "(68, 7)"
      ]
     },
     "execution_count": 16,
     "metadata": {},
     "output_type": "execute_result"
    }
   ],
   "source": [
    "data_depo_all.shape"
   ]
  },
  {
   "cell_type": "code",
   "execution_count": 17,
   "id": "25dc36d0",
   "metadata": {},
   "outputs": [],
   "source": [
    "#data.dropna(inplace=True)"
   ]
  },
  {
   "cell_type": "code",
   "execution_count": 18,
   "id": "d04d0579",
   "metadata": {},
   "outputs": [],
   "source": [
    "#data.shape"
   ]
  },
  {
   "cell_type": "code",
   "execution_count": 19,
   "id": "59783559",
   "metadata": {},
   "outputs": [],
   "source": [
    "data_depo_all = data_depo_all.sort_values([\"NAMA_DAOP\", \"NAMA_DEPO\"])\n"
   ]
  },
  {
   "cell_type": "code",
   "execution_count": 20,
   "id": "57067b3f",
   "metadata": {},
   "outputs": [
    {
     "name": "stdout",
     "output_type": "stream",
     "text": [
      "[ 1  2  3  4  5  6  7  8  9 10 11 12 13 14 15 16 17 18 19 20 21 22 23 24\n",
      " 25 26 27 28 29 30 31 32 33 34 35 36 37 38 39 40 41 42 43 44 45]\n"
     ]
    }
   ],
   "source": [
    "import numpy as np\n",
    "Nomor = np.arange(1,46)\n",
    "print(Nomor)"
   ]
  },
  {
   "cell_type": "code",
   "execution_count": null,
   "id": "0b841e02",
   "metadata": {},
   "outputs": [],
   "source": []
  },
  {
   "cell_type": "code",
   "execution_count": 21,
   "id": "f7b788ba",
   "metadata": {
    "scrolled": false
   },
   "outputs": [
    {
     "name": "stdout",
     "output_type": "stream",
     "text": [
      "                         JENIS  NAMA_DEPO\n",
      "0        Depo Sarana Penggerak         34\n",
      "1  Depo Sarana Tanpa Penggerak         34\n"
     ]
    }
   ],
   "source": [
    "jumlah_depo = data_depo_all.groupby(['JENIS'])['NAMA_DEPO'].count().reset_index()\n",
    "print(jumlah_depo)"
   ]
  },
  {
   "cell_type": "code",
   "execution_count": 22,
   "id": "c75f61a4",
   "metadata": {},
   "outputs": [
    {
     "name": "stdout",
     "output_type": "stream",
     "text": [
      "0          Depo Sarana Penggerak\n",
      "1    Depo Sarana Tanpa Penggerak\n",
      "Name: JENIS, dtype: object\n",
      "<class 'pandas.core.series.Series'>\n"
     ]
    }
   ],
   "source": [
    "labels = jumlah_depo['JENIS']\n",
    "print(labels)\n",
    "print (type(labels))"
   ]
  },
  {
   "cell_type": "code",
   "execution_count": 23,
   "id": "b0c72a15",
   "metadata": {},
   "outputs": [
    {
     "name": "stdout",
     "output_type": "stream",
     "text": [
      "0    34\n",
      "1    34\n",
      "Name: NAMA_DEPO, dtype: int64\n",
      "<class 'pandas.core.series.Series'>\n"
     ]
    }
   ],
   "source": [
    "sizes = jumlah_depo['NAMA_DEPO']\n",
    "print(sizes)\n",
    "print(type(sizes))"
   ]
  },
  {
   "cell_type": "code",
   "execution_count": 24,
   "id": "b7ad707b",
   "metadata": {},
   "outputs": [
    {
     "data": {
      "image/png": "[encoded data removed]",
      "text/plain": [
       "<Figure size 432x288 with 1 Axes>"
      ]
     },
     "metadata": {},
     "output_type": "display_data"
    }
   ],
   "source": [
    "import matplotlib.pyplot as plt\n",
    "\n",
    "# Pie chart, where the slices will be ordered and plotted counter-clockwise:\n",
    "labels = jumlah_depo['JENIS']\n",
    "#sizes = [19, 27]\n",
    "sizes = jumlah_depo['NAMA_DEPO']\n",
    "explode = (0, 0.1)  # only \"explode\" the 2nd slice (i.e. 'Hogs')\n",
    "\n",
    "fig1, ax1 = plt.subplots()\n",
    "ax1.pie(sizes, explode=explode, labels=labels, autopct='%1.1f%%',\n",
    "        shadow=True, startangle=90)\n",
    "ax1.axis('equal')  # Equal aspect ratio ensures that pie is drawn as a circle.\n",
    "\n",
    "plt.show()"
   ]
  },
  {
   "cell_type": "code",
   "execution_count": 30,
   "id": "290b4695",
   "metadata": {},
   "outputs": [],
   "source": [
    "data_depo_all.to_csv(path_or_buf='../data_source/depo/depo_after.csv', sep=',')"
   ]
  },
  {
   "cell_type": "code",
   "execution_count": null,
   "id": "2192d734",
   "metadata": {},
   "outputs": [],
   "source": []
  }
 ],
 "metadata": {
  "kernelspec": {
   "display_name": "Python 3",
   "language": "python",
   "name": "python3"
  },
  "language_info": {
   "codemirror_mode": {
    "name": "ipython",
    "version": 3
   },
   "file_extension": ".py",
   "mimetype": "text/x-python",
   "name": "python",
   "nbconvert_exporter": "python",
   "pygments_lexer": "ipython3",
   "version": "3.8.10"
  }
 },
 "nbformat": 4,
 "nbformat_minor": 5
}
