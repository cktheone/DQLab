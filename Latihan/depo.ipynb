{
 "cells": [
  {
   "cell_type": "code",
   "execution_count": 10,
   "id": "d699eff1",
   "metadata": {},
   "outputs": [
    {
     "data": {
      "text/html": [
       "<div>\n",
       "<style scoped>\n",
       "    .dataframe tbody tr th:only-of-type {\n",
       "        vertical-align: middle;\n",
       "    }\n",
       "\n",
       "    .dataframe tbody tr th {\n",
       "        vertical-align: top;\n",
       "    }\n",
       "\n",
       "    .dataframe thead th {\n",
       "        text-align: right;\n",
       "    }\n",
       "</style>\n",
       "<table border=\"1\" class=\"dataframe\">\n",
       "  <thead>\n",
       "    <tr style=\"text-align: right;\">\n",
       "      <th></th>\n",
       "      <th>no</th>\n",
       "      <th>Daop</th>\n",
       "      <th>Nama_Daop</th>\n",
       "      <th>Pemilik</th>\n",
       "      <th>Jenis</th>\n",
       "      <th>Ket</th>\n",
       "      <th>Koordinat_X</th>\n",
       "      <th>Koordinat_Y</th>\n",
       "    </tr>\n",
       "  </thead>\n",
       "  <tbody>\n",
       "    <tr>\n",
       "      <th>0</th>\n",
       "      <td>15</td>\n",
       "      <td>DAOP 1 JAKARTA</td>\n",
       "      <td>Depo Lokomotif Jatinegara</td>\n",
       "      <td>PT Kereta Api Indonesia (Persero)</td>\n",
       "      <td>Depo Sarana Penggerak</td>\n",
       "      <td>NaN</td>\n",
       "      <td>-6.214245</td>\n",
       "      <td>106.867028</td>\n",
       "    </tr>\n",
       "    <tr>\n",
       "      <th>1</th>\n",
       "      <td>16</td>\n",
       "      <td>DAOP 1 JAKARTA</td>\n",
       "      <td>Depo Kereta Jakarta Kota</td>\n",
       "      <td>PT Kereta Api Indonesia (Persero)</td>\n",
       "      <td>Depo Sarana Tanpa Penggerak</td>\n",
       "      <td>NaN</td>\n",
       "      <td>-6.134634</td>\n",
       "      <td>106.823285</td>\n",
       "    </tr>\n",
       "    <tr>\n",
       "      <th>2</th>\n",
       "      <td>19</td>\n",
       "      <td>DAOP 1 JAKARTA</td>\n",
       "      <td>Depo Gerbong Jakarta Gudang</td>\n",
       "      <td>PT Kereta Api Indonesia (Persero)</td>\n",
       "      <td>Depo Sarana Tanpa Penggerak</td>\n",
       "      <td>NaN</td>\n",
       "      <td>-6.133301</td>\n",
       "      <td>106.818028</td>\n",
       "    </tr>\n",
       "    <tr>\n",
       "      <th>3</th>\n",
       "      <td>57</td>\n",
       "      <td>DAOP 1 JAKARTA</td>\n",
       "      <td>Depo Kereta Rangkas Bitung</td>\n",
       "      <td>PT Kereta Api Indonesia (Persero)</td>\n",
       "      <td>Depo Sarana Tanpa Penggerak</td>\n",
       "      <td>NaN</td>\n",
       "      <td>-6.352703</td>\n",
       "      <td>106.253297</td>\n",
       "    </tr>\n",
       "    <tr>\n",
       "      <th>4</th>\n",
       "      <td>67</td>\n",
       "      <td>DAOP 1 JAKARTA</td>\n",
       "      <td>Depo Kereta Jakarta Manggarai</td>\n",
       "      <td>PT Kereta Api Indonesia (Persero)</td>\n",
       "      <td>Depo Sarana Tanpa Penggerak</td>\n",
       "      <td>NaN</td>\n",
       "      <td>NaN</td>\n",
       "      <td>NaN</td>\n",
       "    </tr>\n",
       "  </tbody>\n",
       "</table>\n",
       "</div>"
      ],
      "text/plain": [
       "   no            Daop                      Nama_Daop  \\\n",
       "0  15  DAOP 1 JAKARTA      Depo Lokomotif Jatinegara   \n",
       "1  16  DAOP 1 JAKARTA       Depo Kereta Jakarta Kota   \n",
       "2  19  DAOP 1 JAKARTA    Depo Gerbong Jakarta Gudang   \n",
       "3  57  DAOP 1 JAKARTA     Depo Kereta Rangkas Bitung   \n",
       "4  67  DAOP 1 JAKARTA  Depo Kereta Jakarta Manggarai   \n",
       "\n",
       "                             Pemilik                        Jenis  Ket  \\\n",
       "0  PT Kereta Api Indonesia (Persero)        Depo Sarana Penggerak  NaN   \n",
       "1  PT Kereta Api Indonesia (Persero)  Depo Sarana Tanpa Penggerak  NaN   \n",
       "2  PT Kereta Api Indonesia (Persero)  Depo Sarana Tanpa Penggerak  NaN   \n",
       "3  PT Kereta Api Indonesia (Persero)  Depo Sarana Tanpa Penggerak  NaN   \n",
       "4  PT Kereta Api Indonesia (Persero)  Depo Sarana Tanpa Penggerak  NaN   \n",
       "\n",
       "   Koordinat_X  Koordinat_Y  \n",
       "0    -6.214245   106.867028  \n",
       "1    -6.134634   106.823285  \n",
       "2    -6.133301   106.818028  \n",
       "3    -6.352703   106.253297  \n",
       "4          NaN          NaN  "
      ]
     },
     "execution_count": 10,
     "metadata": {},
     "output_type": "execute_result"
    }
   ],
   "source": [
    "import pandas as pd\n",
    "colnames=['no', 'Daop', 'Nama_Daop', 'Pemilik', 'Jenis', 'Ket', 'Koordinat_X', 'Koordinat_Y'] \n",
    "data = pd.read_excel('data_source/depo.xlsx', sheet_name='depo', names=colnames)\n",
    "data.head()\n"
   ]
  },
  {
   "cell_type": "code",
   "execution_count": 11,
   "id": "24584a82",
   "metadata": {},
   "outputs": [],
   "source": [
    "data.drop(columns=['no', 'Ket'], inplace = True)"
   ]
  },
  {
   "cell_type": "code",
   "execution_count": 12,
   "id": "ce6c4f76",
   "metadata": {},
   "outputs": [
    {
     "data": {
      "text/html": [
       "<div>\n",
       "<style scoped>\n",
       "    .dataframe tbody tr th:only-of-type {\n",
       "        vertical-align: middle;\n",
       "    }\n",
       "\n",
       "    .dataframe tbody tr th {\n",
       "        vertical-align: top;\n",
       "    }\n",
       "\n",
       "    .dataframe thead th {\n",
       "        text-align: right;\n",
       "    }\n",
       "</style>\n",
       "<table border=\"1\" class=\"dataframe\">\n",
       "  <thead>\n",
       "    <tr style=\"text-align: right;\">\n",
       "      <th></th>\n",
       "      <th>Daop</th>\n",
       "      <th>Nama_Daop</th>\n",
       "      <th>Pemilik</th>\n",
       "      <th>Jenis</th>\n",
       "      <th>Koordinat_X</th>\n",
       "      <th>Koordinat_Y</th>\n",
       "    </tr>\n",
       "  </thead>\n",
       "  <tbody>\n",
       "    <tr>\n",
       "      <th>0</th>\n",
       "      <td>DAOP 1 JAKARTA</td>\n",
       "      <td>Depo Lokomotif Jatinegara</td>\n",
       "      <td>PT Kereta Api Indonesia (Persero)</td>\n",
       "      <td>Depo Sarana Penggerak</td>\n",
       "      <td>-6.214245</td>\n",
       "      <td>106.867028</td>\n",
       "    </tr>\n",
       "    <tr>\n",
       "      <th>1</th>\n",
       "      <td>DAOP 1 JAKARTA</td>\n",
       "      <td>Depo Kereta Jakarta Kota</td>\n",
       "      <td>PT Kereta Api Indonesia (Persero)</td>\n",
       "      <td>Depo Sarana Tanpa Penggerak</td>\n",
       "      <td>-6.134634</td>\n",
       "      <td>106.823285</td>\n",
       "    </tr>\n",
       "    <tr>\n",
       "      <th>2</th>\n",
       "      <td>DAOP 1 JAKARTA</td>\n",
       "      <td>Depo Gerbong Jakarta Gudang</td>\n",
       "      <td>PT Kereta Api Indonesia (Persero)</td>\n",
       "      <td>Depo Sarana Tanpa Penggerak</td>\n",
       "      <td>-6.133301</td>\n",
       "      <td>106.818028</td>\n",
       "    </tr>\n",
       "    <tr>\n",
       "      <th>3</th>\n",
       "      <td>DAOP 1 JAKARTA</td>\n",
       "      <td>Depo Kereta Rangkas Bitung</td>\n",
       "      <td>PT Kereta Api Indonesia (Persero)</td>\n",
       "      <td>Depo Sarana Tanpa Penggerak</td>\n",
       "      <td>-6.352703</td>\n",
       "      <td>106.253297</td>\n",
       "    </tr>\n",
       "    <tr>\n",
       "      <th>4</th>\n",
       "      <td>DAOP 1 JAKARTA</td>\n",
       "      <td>Depo Kereta Jakarta Manggarai</td>\n",
       "      <td>PT Kereta Api Indonesia (Persero)</td>\n",
       "      <td>Depo Sarana Tanpa Penggerak</td>\n",
       "      <td>NaN</td>\n",
       "      <td>NaN</td>\n",
       "    </tr>\n",
       "  </tbody>\n",
       "</table>\n",
       "</div>"
      ],
      "text/plain": [
       "             Daop                      Nama_Daop  \\\n",
       "0  DAOP 1 JAKARTA      Depo Lokomotif Jatinegara   \n",
       "1  DAOP 1 JAKARTA       Depo Kereta Jakarta Kota   \n",
       "2  DAOP 1 JAKARTA    Depo Gerbong Jakarta Gudang   \n",
       "3  DAOP 1 JAKARTA     Depo Kereta Rangkas Bitung   \n",
       "4  DAOP 1 JAKARTA  Depo Kereta Jakarta Manggarai   \n",
       "\n",
       "                             Pemilik                        Jenis  \\\n",
       "0  PT Kereta Api Indonesia (Persero)        Depo Sarana Penggerak   \n",
       "1  PT Kereta Api Indonesia (Persero)  Depo Sarana Tanpa Penggerak   \n",
       "2  PT Kereta Api Indonesia (Persero)  Depo Sarana Tanpa Penggerak   \n",
       "3  PT Kereta Api Indonesia (Persero)  Depo Sarana Tanpa Penggerak   \n",
       "4  PT Kereta Api Indonesia (Persero)  Depo Sarana Tanpa Penggerak   \n",
       "\n",
       "   Koordinat_X  Koordinat_Y  \n",
       "0    -6.214245   106.867028  \n",
       "1    -6.134634   106.823285  \n",
       "2    -6.133301   106.818028  \n",
       "3    -6.352703   106.253297  \n",
       "4          NaN          NaN  "
      ]
     },
     "execution_count": 12,
     "metadata": {},
     "output_type": "execute_result"
    }
   ],
   "source": [
    "data.head()"
   ]
  },
  {
   "cell_type": "code",
   "execution_count": 13,
   "id": "36c7a489",
   "metadata": {
    "scrolled": true
   },
   "outputs": [
    {
     "data": {
      "text/plain": [
       "Depo Sarana Penggerak          33\n",
       "Depo Sarana Tanpa Penggerak    31\n",
       "Name: Jenis, dtype: int64"
      ]
     },
     "execution_count": 13,
     "metadata": {},
     "output_type": "execute_result"
    }
   ],
   "source": [
    "data['Jenis'].value_counts(dropna=False)"
   ]
  },
  {
   "cell_type": "code",
   "execution_count": 14,
   "id": "640e6a3f",
   "metadata": {},
   "outputs": [
    {
     "data": {
      "text/plain": [
       "Daop            0\n",
       "Nama_Daop       0\n",
       "Pemilik         0\n",
       "Jenis           0\n",
       "Koordinat_X    18\n",
       "Koordinat_Y    18\n",
       "dtype: int64"
      ]
     },
     "execution_count": 14,
     "metadata": {},
     "output_type": "execute_result"
    }
   ],
   "source": [
    "data.isna().sum()"
   ]
  },
  {
   "cell_type": "code",
   "execution_count": 15,
   "id": "94d03344",
   "metadata": {},
   "outputs": [
    {
     "data": {
      "text/plain": [
       "(64, 6)"
      ]
     },
     "execution_count": 15,
     "metadata": {},
     "output_type": "execute_result"
    }
   ],
   "source": [
    "data.shape"
   ]
  },
  {
   "cell_type": "code",
   "execution_count": 16,
   "id": "25dc36d0",
   "metadata": {},
   "outputs": [],
   "source": [
    "data.dropna(inplace=True)"
   ]
  },
  {
   "cell_type": "code",
   "execution_count": 17,
   "id": "d04d0579",
   "metadata": {},
   "outputs": [
    {
     "data": {
      "text/plain": [
       "(46, 6)"
      ]
     },
     "execution_count": 17,
     "metadata": {},
     "output_type": "execute_result"
    }
   ],
   "source": [
    "data.shape"
   ]
  },
  {
   "cell_type": "code",
   "execution_count": 18,
   "id": "791f2a50",
   "metadata": {},
   "outputs": [
    {
     "data": {
      "text/html": [
       "<div>\n",
       "<style scoped>\n",
       "    .dataframe tbody tr th:only-of-type {\n",
       "        vertical-align: middle;\n",
       "    }\n",
       "\n",
       "    .dataframe tbody tr th {\n",
       "        vertical-align: top;\n",
       "    }\n",
       "\n",
       "    .dataframe thead th {\n",
       "        text-align: right;\n",
       "    }\n",
       "</style>\n",
       "<table border=\"1\" class=\"dataframe\">\n",
       "  <thead>\n",
       "    <tr style=\"text-align: right;\">\n",
       "      <th></th>\n",
       "      <th>Daop</th>\n",
       "      <th>Nama_Daop</th>\n",
       "      <th>Pemilik</th>\n",
       "      <th>Jenis</th>\n",
       "      <th>Koordinat_X</th>\n",
       "      <th>Koordinat_Y</th>\n",
       "    </tr>\n",
       "  </thead>\n",
       "  <tbody>\n",
       "    <tr>\n",
       "      <th>0</th>\n",
       "      <td>DAOP 1 JAKARTA</td>\n",
       "      <td>Depo Lokomotif Jatinegara</td>\n",
       "      <td>PT Kereta Api Indonesia (Persero)</td>\n",
       "      <td>Depo Sarana Penggerak</td>\n",
       "      <td>-6.214245</td>\n",
       "      <td>106.867028</td>\n",
       "    </tr>\n",
       "    <tr>\n",
       "      <th>1</th>\n",
       "      <td>DAOP 1 JAKARTA</td>\n",
       "      <td>Depo Kereta Jakarta Kota</td>\n",
       "      <td>PT Kereta Api Indonesia (Persero)</td>\n",
       "      <td>Depo Sarana Tanpa Penggerak</td>\n",
       "      <td>-6.134634</td>\n",
       "      <td>106.823285</td>\n",
       "    </tr>\n",
       "    <tr>\n",
       "      <th>2</th>\n",
       "      <td>DAOP 1 JAKARTA</td>\n",
       "      <td>Depo Gerbong Jakarta Gudang</td>\n",
       "      <td>PT Kereta Api Indonesia (Persero)</td>\n",
       "      <td>Depo Sarana Tanpa Penggerak</td>\n",
       "      <td>-6.133301</td>\n",
       "      <td>106.818028</td>\n",
       "    </tr>\n",
       "    <tr>\n",
       "      <th>3</th>\n",
       "      <td>DAOP 1 JAKARTA</td>\n",
       "      <td>Depo Kereta Rangkas Bitung</td>\n",
       "      <td>PT Kereta Api Indonesia (Persero)</td>\n",
       "      <td>Depo Sarana Tanpa Penggerak</td>\n",
       "      <td>-6.352703</td>\n",
       "      <td>106.253297</td>\n",
       "    </tr>\n",
       "    <tr>\n",
       "      <th>7</th>\n",
       "      <td>DAOP 2 BANDUNG</td>\n",
       "      <td>Depo Lokomotif Bandung</td>\n",
       "      <td>PT Kereta Api Indonesia (Persero)</td>\n",
       "      <td>Depo Sarana Penggerak</td>\n",
       "      <td>-6.913390</td>\n",
       "      <td>107.599592</td>\n",
       "    </tr>\n",
       "  </tbody>\n",
       "</table>\n",
       "</div>"
      ],
      "text/plain": [
       "             Daop                    Nama_Daop  \\\n",
       "0  DAOP 1 JAKARTA    Depo Lokomotif Jatinegara   \n",
       "1  DAOP 1 JAKARTA     Depo Kereta Jakarta Kota   \n",
       "2  DAOP 1 JAKARTA  Depo Gerbong Jakarta Gudang   \n",
       "3  DAOP 1 JAKARTA   Depo Kereta Rangkas Bitung   \n",
       "7  DAOP 2 BANDUNG       Depo Lokomotif Bandung   \n",
       "\n",
       "                             Pemilik                        Jenis  \\\n",
       "0  PT Kereta Api Indonesia (Persero)        Depo Sarana Penggerak   \n",
       "1  PT Kereta Api Indonesia (Persero)  Depo Sarana Tanpa Penggerak   \n",
       "2  PT Kereta Api Indonesia (Persero)  Depo Sarana Tanpa Penggerak   \n",
       "3  PT Kereta Api Indonesia (Persero)  Depo Sarana Tanpa Penggerak   \n",
       "7  PT Kereta Api Indonesia (Persero)        Depo Sarana Penggerak   \n",
       "\n",
       "   Koordinat_X  Koordinat_Y  \n",
       "0    -6.214245   106.867028  \n",
       "1    -6.134634   106.823285  \n",
       "2    -6.133301   106.818028  \n",
       "3    -6.352703   106.253297  \n",
       "7    -6.913390   107.599592  "
      ]
     },
     "execution_count": 18,
     "metadata": {},
     "output_type": "execute_result"
    }
   ],
   "source": [
    "data.head()"
   ]
  },
  {
   "cell_type": "code",
   "execution_count": 19,
   "id": "290b4695",
   "metadata": {},
   "outputs": [],
   "source": [
    "data.to_csv(path_or_buf='data_source/depo_after.csv', sep=',')"
   ]
  },
  {
   "cell_type": "code",
   "execution_count": null,
   "id": "ed83a582",
   "metadata": {},
   "outputs": [],
   "source": []
  }
 ],
 "metadata": {
  "kernelspec": {
   "display_name": "Python 3",
   "language": "python",
   "name": "python3"
  },
  "language_info": {
   "codemirror_mode": {
    "name": "ipython",
    "version": 3
   },
   "file_extension": ".py",
   "mimetype": "text/x-python",
   "name": "python",
   "nbconvert_exporter": "python",
   "pygments_lexer": "ipython3",
   "version": "3.8.10"
  }
 },
 "nbformat": 4,
 "nbformat_minor": 5
}
