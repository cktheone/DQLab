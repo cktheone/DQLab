{
 "cells": [
  {
   "cell_type": "markdown",
   "id": "9f005173",
   "metadata": {},
   "source": [
    "Latihan Olah Dataset Depo\n",
    "- Drop Kolom\n",
    "- Drop NULL Value\n",
    "- Sorting Data Berdasarkan Kolom tertentu\n",
    "- Asign Nomor Urut menggunakan Numpy.arange otomatis\n",
    "- Atur Urutan Kolom\n",
    "- Membuat rekap menggunakan pivot_table\n",
    "- Membuat Pie Chart"
   ]
  },
  {
   "cell_type": "code",
   "execution_count": 1,
   "id": "d699eff1",
   "metadata": {
    "scrolled": true
   },
   "outputs": [
    {
     "data": {
      "text/html": [
       "<div>\n",
       "<style scoped>\n",
       "    .dataframe tbody tr th:only-of-type {\n",
       "        vertical-align: middle;\n",
       "    }\n",
       "\n",
       "    .dataframe tbody tr th {\n",
       "        vertical-align: top;\n",
       "    }\n",
       "\n",
       "    .dataframe thead th {\n",
       "        text-align: right;\n",
       "    }\n",
       "</style>\n",
       "<table border=\"1\" class=\"dataframe\">\n",
       "  <thead>\n",
       "    <tr style=\"text-align: right;\">\n",
       "      <th></th>\n",
       "      <th>ID</th>\n",
       "      <th>Daop</th>\n",
       "      <th>Nama_Depo</th>\n",
       "      <th>Pemilik</th>\n",
       "      <th>Jenis</th>\n",
       "      <th>Ket</th>\n",
       "      <th>Koordinat_X</th>\n",
       "      <th>Koordinat_Y</th>\n",
       "    </tr>\n",
       "  </thead>\n",
       "  <tbody>\n",
       "    <tr>\n",
       "      <th>0</th>\n",
       "      <td>14</td>\n",
       "      <td>DAOP 1 JAKARTA</td>\n",
       "      <td>Depo Lokomotif THB</td>\n",
       "      <td>PT Kereta Api Indonesia (Persero)</td>\n",
       "      <td>Depo Sarana Penggerak</td>\n",
       "      <td>NaN</td>\n",
       "      <td>-6.184171</td>\n",
       "      <td>106.810808</td>\n",
       "    </tr>\n",
       "    <tr>\n",
       "      <th>1</th>\n",
       "      <td>15</td>\n",
       "      <td>DAOP 1 JAKARTA</td>\n",
       "      <td>Depo Lokomotif CPN</td>\n",
       "      <td>PT Kereta Api Indonesia (Persero)</td>\n",
       "      <td>Depo Sarana Penggerak</td>\n",
       "      <td>NaN</td>\n",
       "      <td>-6.214245</td>\n",
       "      <td>106.867028</td>\n",
       "    </tr>\n",
       "    <tr>\n",
       "      <th>2</th>\n",
       "      <td>16</td>\n",
       "      <td>DAOP 1 JAKARTA</td>\n",
       "      <td>Depo Kereta JAKK</td>\n",
       "      <td>PT Kereta Api Indonesia (Persero)</td>\n",
       "      <td>Depo Sarana Tanpa Penggerak</td>\n",
       "      <td>NaN</td>\n",
       "      <td>-6.134634</td>\n",
       "      <td>106.823285</td>\n",
       "    </tr>\n",
       "    <tr>\n",
       "      <th>3</th>\n",
       "      <td>19</td>\n",
       "      <td>DAOP 1 JAKARTA</td>\n",
       "      <td>Depo Gerbong JAKG</td>\n",
       "      <td>PT Kereta Api Indonesia (Persero)</td>\n",
       "      <td>Depo Sarana Tanpa Penggerak</td>\n",
       "      <td>NaN</td>\n",
       "      <td>-6.133301</td>\n",
       "      <td>106.818028</td>\n",
       "    </tr>\n",
       "    <tr>\n",
       "      <th>4</th>\n",
       "      <td>57</td>\n",
       "      <td>DAOP 1 JAKARTA</td>\n",
       "      <td>Depo Kereta RK</td>\n",
       "      <td>PT Kereta Api Indonesia (Persero)</td>\n",
       "      <td>Depo Sarana Tanpa Penggerak</td>\n",
       "      <td>NaN</td>\n",
       "      <td>-6.352703</td>\n",
       "      <td>106.253297</td>\n",
       "    </tr>\n",
       "  </tbody>\n",
       "</table>\n",
       "</div>"
      ],
      "text/plain": [
       "   ID            Daop           Nama_Depo                            Pemilik  \\\n",
       "0  14  DAOP 1 JAKARTA  Depo Lokomotif THB  PT Kereta Api Indonesia (Persero)   \n",
       "1  15  DAOP 1 JAKARTA  Depo Lokomotif CPN  PT Kereta Api Indonesia (Persero)   \n",
       "2  16  DAOP 1 JAKARTA    Depo Kereta JAKK  PT Kereta Api Indonesia (Persero)   \n",
       "3  19  DAOP 1 JAKARTA   Depo Gerbong JAKG  PT Kereta Api Indonesia (Persero)   \n",
       "4  57  DAOP 1 JAKARTA      Depo Kereta RK  PT Kereta Api Indonesia (Persero)   \n",
       "\n",
       "                         Jenis  Ket  Koordinat_X  Koordinat_Y  \n",
       "0        Depo Sarana Penggerak  NaN    -6.184171   106.810808  \n",
       "1        Depo Sarana Penggerak  NaN    -6.214245   106.867028  \n",
       "2  Depo Sarana Tanpa Penggerak  NaN    -6.134634   106.823285  \n",
       "3  Depo Sarana Tanpa Penggerak  NaN    -6.133301   106.818028  \n",
       "4  Depo Sarana Tanpa Penggerak  NaN    -6.352703   106.253297  "
      ]
     },
     "execution_count": 1,
     "metadata": {},
     "output_type": "execute_result"
    }
   ],
   "source": [
    "import pandas as pd\n",
    "colnames=['ID', 'Daop', 'Nama_Depo', 'Pemilik', 'Jenis', 'Ket', 'Koordinat_X', 'Koordinat_Y'] \n",
    "data = pd.read_excel('data_source/depo.xlsx', sheet_name='depo', header=None, names=colnames)\n",
    "data.head()\n"
   ]
  },
  {
   "cell_type": "code",
   "execution_count": 2,
   "id": "24401c96",
   "metadata": {},
   "outputs": [
    {
     "data": {
      "text/html": [
       "<div>\n",
       "<style scoped>\n",
       "    .dataframe tbody tr th:only-of-type {\n",
       "        vertical-align: middle;\n",
       "    }\n",
       "\n",
       "    .dataframe tbody tr th {\n",
       "        vertical-align: top;\n",
       "    }\n",
       "\n",
       "    .dataframe thead th {\n",
       "        text-align: right;\n",
       "    }\n",
       "</style>\n",
       "<table border=\"1\" class=\"dataframe\">\n",
       "  <thead>\n",
       "    <tr style=\"text-align: right;\">\n",
       "      <th></th>\n",
       "      <th>ID</th>\n",
       "      <th>Daop</th>\n",
       "      <th>Nama_Depo</th>\n",
       "      <th>Pemilik</th>\n",
       "      <th>Jenis</th>\n",
       "      <th>Ket</th>\n",
       "      <th>Koordinat_X</th>\n",
       "      <th>Koordinat_Y</th>\n",
       "    </tr>\n",
       "  </thead>\n",
       "  <tbody>\n",
       "    <tr>\n",
       "      <th>65</th>\n",
       "      <td>79</td>\n",
       "      <td>DAOP 3 CIREBON</td>\n",
       "      <td>Depo Gerbong AWN</td>\n",
       "      <td>PT Kereta Api Indonesia (Persero)</td>\n",
       "      <td>Depo Sarana Tanpa Penggerak</td>\n",
       "      <td>NaN</td>\n",
       "      <td>NaN</td>\n",
       "      <td>NaN</td>\n",
       "    </tr>\n",
       "    <tr>\n",
       "      <th>66</th>\n",
       "      <td>80</td>\n",
       "      <td>DAOP 6 YOGYAKARTA</td>\n",
       "      <td>DEPO GERBONG RWL</td>\n",
       "      <td>PT Kereta Api Indonesia (Persero)</td>\n",
       "      <td>Depo Sarana Tanpa Penggerak</td>\n",
       "      <td>NaN</td>\n",
       "      <td>NaN</td>\n",
       "      <td>NaN</td>\n",
       "    </tr>\n",
       "    <tr>\n",
       "      <th>67</th>\n",
       "      <td>81</td>\n",
       "      <td>DIVRE II SUMATERA BARAT</td>\n",
       "      <td>DEPO GERBONG BKP</td>\n",
       "      <td>PT Kereta Api Indonesia (Persero)</td>\n",
       "      <td>Depo Sarana Tanpa Penggerak</td>\n",
       "      <td>NaN</td>\n",
       "      <td>NaN</td>\n",
       "      <td>NaN</td>\n",
       "    </tr>\n",
       "    <tr>\n",
       "      <th>68</th>\n",
       "      <td>82</td>\n",
       "      <td>DIVRE III SUMATERA SELATAN</td>\n",
       "      <td>Depo Gerbong SIG</td>\n",
       "      <td>PT Kereta Api Indonesia (Persero)</td>\n",
       "      <td>Depo Sarana Tanpa Penggerak</td>\n",
       "      <td>NaN</td>\n",
       "      <td>NaN</td>\n",
       "      <td>NaN</td>\n",
       "    </tr>\n",
       "    <tr>\n",
       "      <th>69</th>\n",
       "      <td>83</td>\n",
       "      <td>DIVRE III SUMATERA SELATAN</td>\n",
       "      <td>DEPO GERBONG MRL</td>\n",
       "      <td>PT Kereta Api Indonesia (Persero)</td>\n",
       "      <td>Depo Sarana Tanpa Penggerak</td>\n",
       "      <td>NaN</td>\n",
       "      <td>NaN</td>\n",
       "      <td>NaN</td>\n",
       "    </tr>\n",
       "  </tbody>\n",
       "</table>\n",
       "</div>"
      ],
      "text/plain": [
       "    ID                        Daop         Nama_Depo  \\\n",
       "65  79              DAOP 3 CIREBON  Depo Gerbong AWN   \n",
       "66  80           DAOP 6 YOGYAKARTA  DEPO GERBONG RWL   \n",
       "67  81     DIVRE II SUMATERA BARAT  DEPO GERBONG BKP   \n",
       "68  82  DIVRE III SUMATERA SELATAN  Depo Gerbong SIG   \n",
       "69  83  DIVRE III SUMATERA SELATAN  DEPO GERBONG MRL   \n",
       "\n",
       "                              Pemilik                        Jenis  Ket  \\\n",
       "65  PT Kereta Api Indonesia (Persero)  Depo Sarana Tanpa Penggerak  NaN   \n",
       "66  PT Kereta Api Indonesia (Persero)  Depo Sarana Tanpa Penggerak  NaN   \n",
       "67  PT Kereta Api Indonesia (Persero)  Depo Sarana Tanpa Penggerak  NaN   \n",
       "68  PT Kereta Api Indonesia (Persero)  Depo Sarana Tanpa Penggerak  NaN   \n",
       "69  PT Kereta Api Indonesia (Persero)  Depo Sarana Tanpa Penggerak  NaN   \n",
       "\n",
       "    Koordinat_X  Koordinat_Y  \n",
       "65          NaN          NaN  \n",
       "66          NaN          NaN  \n",
       "67          NaN          NaN  \n",
       "68          NaN          NaN  \n",
       "69          NaN          NaN  "
      ]
     },
     "execution_count": 2,
     "metadata": {},
     "output_type": "execute_result"
    }
   ],
   "source": [
    "data.tail()\n"
   ]
  },
  {
   "cell_type": "code",
   "execution_count": 3,
   "id": "f4409425",
   "metadata": {},
   "outputs": [],
   "source": [
    "data_depo_all = data[['ID', 'Daop', 'Nama_Depo', 'Pemilik', 'Jenis']]"
   ]
  },
  {
   "cell_type": "code",
   "execution_count": 4,
   "id": "baf44821",
   "metadata": {},
   "outputs": [
    {
     "data": {
      "text/plain": [
       "(70, 8)"
      ]
     },
     "execution_count": 4,
     "metadata": {},
     "output_type": "execute_result"
    }
   ],
   "source": [
    "data.shape"
   ]
  },
  {
   "cell_type": "code",
   "execution_count": 5,
   "id": "8fe189a4",
   "metadata": {},
   "outputs": [
    {
     "data": {
      "text/plain": [
       "(70, 5)"
      ]
     },
     "execution_count": 5,
     "metadata": {},
     "output_type": "execute_result"
    }
   ],
   "source": [
    "data_depo_all.shape"
   ]
  },
  {
   "cell_type": "code",
   "execution_count": 6,
   "id": "57ee0a0e",
   "metadata": {
    "scrolled": false
   },
   "outputs": [
    {
     "name": "stderr",
     "output_type": "stream",
     "text": [
      "<ipython-input-6-19d13778ceef>:1: SettingWithCopyWarning: \n",
      "A value is trying to be set on a copy of a slice from a DataFrame.\n",
      "Try using .loc[row_indexer,col_indexer] = value instead\n",
      "\n",
      "See the caveats in the documentation: https://pandas.pydata.org/pandas-docs/stable/user_guide/indexing.html#returning-a-view-versus-a-copy\n",
      "  data_depo_all['Nama_Depo'] = data_depo_all['Nama_Depo'].str.upper()\n"
     ]
    }
   ],
   "source": [
    "data_depo_all['Nama_Depo'] = data_depo_all['Nama_Depo'].str.upper()"
   ]
  },
  {
   "cell_type": "code",
   "execution_count": 7,
   "id": "81ba6fdc",
   "metadata": {},
   "outputs": [
    {
     "name": "stderr",
     "output_type": "stream",
     "text": [
      "<ipython-input-7-b6800e2dd381>:1: SettingWithCopyWarning: \n",
      "A value is trying to be set on a copy of a slice from a DataFrame.\n",
      "Try using .loc[row_indexer,col_indexer] = value instead\n",
      "\n",
      "See the caveats in the documentation: https://pandas.pydata.org/pandas-docs/stable/user_guide/indexing.html#returning-a-view-versus-a-copy\n",
      "  data_depo_all['Nama_Depo'] = data_depo_all['Nama_Depo'].str.strip()\n"
     ]
    }
   ],
   "source": [
    "data_depo_all['Nama_Depo'] = data_depo_all['Nama_Depo'].str.strip()"
   ]
  },
  {
   "cell_type": "code",
   "execution_count": 8,
   "id": "68a4db3a",
   "metadata": {},
   "outputs": [
    {
     "data": {
      "text/html": [
       "<div>\n",
       "<style scoped>\n",
       "    .dataframe tbody tr th:only-of-type {\n",
       "        vertical-align: middle;\n",
       "    }\n",
       "\n",
       "    .dataframe tbody tr th {\n",
       "        vertical-align: top;\n",
       "    }\n",
       "\n",
       "    .dataframe thead th {\n",
       "        text-align: right;\n",
       "    }\n",
       "</style>\n",
       "<table border=\"1\" class=\"dataframe\">\n",
       "  <thead>\n",
       "    <tr style=\"text-align: right;\">\n",
       "      <th></th>\n",
       "      <th>ID</th>\n",
       "      <th>Daop</th>\n",
       "      <th>Nama_Depo</th>\n",
       "      <th>Pemilik</th>\n",
       "      <th>Jenis</th>\n",
       "    </tr>\n",
       "  </thead>\n",
       "  <tbody>\n",
       "    <tr>\n",
       "      <th>0</th>\n",
       "      <td>14</td>\n",
       "      <td>DAOP 1 JAKARTA</td>\n",
       "      <td>DEPO LOKOMOTIF THB</td>\n",
       "      <td>PT Kereta Api Indonesia (Persero)</td>\n",
       "      <td>Depo Sarana Penggerak</td>\n",
       "    </tr>\n",
       "    <tr>\n",
       "      <th>1</th>\n",
       "      <td>15</td>\n",
       "      <td>DAOP 1 JAKARTA</td>\n",
       "      <td>DEPO LOKOMOTIF CPN</td>\n",
       "      <td>PT Kereta Api Indonesia (Persero)</td>\n",
       "      <td>Depo Sarana Penggerak</td>\n",
       "    </tr>\n",
       "    <tr>\n",
       "      <th>2</th>\n",
       "      <td>16</td>\n",
       "      <td>DAOP 1 JAKARTA</td>\n",
       "      <td>DEPO KERETA JAKK</td>\n",
       "      <td>PT Kereta Api Indonesia (Persero)</td>\n",
       "      <td>Depo Sarana Tanpa Penggerak</td>\n",
       "    </tr>\n",
       "    <tr>\n",
       "      <th>3</th>\n",
       "      <td>19</td>\n",
       "      <td>DAOP 1 JAKARTA</td>\n",
       "      <td>DEPO GERBONG JAKG</td>\n",
       "      <td>PT Kereta Api Indonesia (Persero)</td>\n",
       "      <td>Depo Sarana Tanpa Penggerak</td>\n",
       "    </tr>\n",
       "    <tr>\n",
       "      <th>4</th>\n",
       "      <td>57</td>\n",
       "      <td>DAOP 1 JAKARTA</td>\n",
       "      <td>DEPO KERETA RK</td>\n",
       "      <td>PT Kereta Api Indonesia (Persero)</td>\n",
       "      <td>Depo Sarana Tanpa Penggerak</td>\n",
       "    </tr>\n",
       "    <tr>\n",
       "      <th>...</th>\n",
       "      <td>...</td>\n",
       "      <td>...</td>\n",
       "      <td>...</td>\n",
       "      <td>...</td>\n",
       "      <td>...</td>\n",
       "    </tr>\n",
       "    <tr>\n",
       "      <th>65</th>\n",
       "      <td>79</td>\n",
       "      <td>DAOP 3 CIREBON</td>\n",
       "      <td>DEPO GERBONG AWN</td>\n",
       "      <td>PT Kereta Api Indonesia (Persero)</td>\n",
       "      <td>Depo Sarana Tanpa Penggerak</td>\n",
       "    </tr>\n",
       "    <tr>\n",
       "      <th>66</th>\n",
       "      <td>80</td>\n",
       "      <td>DAOP 6 YOGYAKARTA</td>\n",
       "      <td>DEPO GERBONG RWL</td>\n",
       "      <td>PT Kereta Api Indonesia (Persero)</td>\n",
       "      <td>Depo Sarana Tanpa Penggerak</td>\n",
       "    </tr>\n",
       "    <tr>\n",
       "      <th>67</th>\n",
       "      <td>81</td>\n",
       "      <td>DIVRE II SUMATERA BARAT</td>\n",
       "      <td>DEPO GERBONG BKP</td>\n",
       "      <td>PT Kereta Api Indonesia (Persero)</td>\n",
       "      <td>Depo Sarana Tanpa Penggerak</td>\n",
       "    </tr>\n",
       "    <tr>\n",
       "      <th>68</th>\n",
       "      <td>82</td>\n",
       "      <td>DIVRE III SUMATERA SELATAN</td>\n",
       "      <td>DEPO GERBONG SIG</td>\n",
       "      <td>PT Kereta Api Indonesia (Persero)</td>\n",
       "      <td>Depo Sarana Tanpa Penggerak</td>\n",
       "    </tr>\n",
       "    <tr>\n",
       "      <th>69</th>\n",
       "      <td>83</td>\n",
       "      <td>DIVRE III SUMATERA SELATAN</td>\n",
       "      <td>DEPO GERBONG MRL</td>\n",
       "      <td>PT Kereta Api Indonesia (Persero)</td>\n",
       "      <td>Depo Sarana Tanpa Penggerak</td>\n",
       "    </tr>\n",
       "  </tbody>\n",
       "</table>\n",
       "<p>70 rows × 5 columns</p>\n",
       "</div>"
      ],
      "text/plain": [
       "    ID                        Daop           Nama_Depo  \\\n",
       "0   14              DAOP 1 JAKARTA  DEPO LOKOMOTIF THB   \n",
       "1   15              DAOP 1 JAKARTA  DEPO LOKOMOTIF CPN   \n",
       "2   16              DAOP 1 JAKARTA    DEPO KERETA JAKK   \n",
       "3   19              DAOP 1 JAKARTA   DEPO GERBONG JAKG   \n",
       "4   57              DAOP 1 JAKARTA      DEPO KERETA RK   \n",
       "..  ..                         ...                 ...   \n",
       "65  79              DAOP 3 CIREBON    DEPO GERBONG AWN   \n",
       "66  80           DAOP 6 YOGYAKARTA    DEPO GERBONG RWL   \n",
       "67  81     DIVRE II SUMATERA BARAT    DEPO GERBONG BKP   \n",
       "68  82  DIVRE III SUMATERA SELATAN    DEPO GERBONG SIG   \n",
       "69  83  DIVRE III SUMATERA SELATAN    DEPO GERBONG MRL   \n",
       "\n",
       "                              Pemilik                        Jenis  \n",
       "0   PT Kereta Api Indonesia (Persero)        Depo Sarana Penggerak  \n",
       "1   PT Kereta Api Indonesia (Persero)        Depo Sarana Penggerak  \n",
       "2   PT Kereta Api Indonesia (Persero)  Depo Sarana Tanpa Penggerak  \n",
       "3   PT Kereta Api Indonesia (Persero)  Depo Sarana Tanpa Penggerak  \n",
       "4   PT Kereta Api Indonesia (Persero)  Depo Sarana Tanpa Penggerak  \n",
       "..                                ...                          ...  \n",
       "65  PT Kereta Api Indonesia (Persero)  Depo Sarana Tanpa Penggerak  \n",
       "66  PT Kereta Api Indonesia (Persero)  Depo Sarana Tanpa Penggerak  \n",
       "67  PT Kereta Api Indonesia (Persero)  Depo Sarana Tanpa Penggerak  \n",
       "68  PT Kereta Api Indonesia (Persero)  Depo Sarana Tanpa Penggerak  \n",
       "69  PT Kereta Api Indonesia (Persero)  Depo Sarana Tanpa Penggerak  \n",
       "\n",
       "[70 rows x 5 columns]"
      ]
     },
     "execution_count": 8,
     "metadata": {},
     "output_type": "execute_result"
    }
   ],
   "source": [
    "data_depo_all"
   ]
  },
  {
   "cell_type": "code",
   "execution_count": null,
   "id": "789c3a88",
   "metadata": {},
   "outputs": [],
   "source": []
  },
  {
   "cell_type": "code",
   "execution_count": null,
   "id": "bff2906a",
   "metadata": {},
   "outputs": [],
   "source": []
  },
  {
   "cell_type": "code",
   "execution_count": 9,
   "id": "24584a82",
   "metadata": {},
   "outputs": [],
   "source": [
    "data.drop(columns=['ID', 'Ket'], inplace = True)"
   ]
  },
  {
   "cell_type": "code",
   "execution_count": 10,
   "id": "ce6c4f76",
   "metadata": {},
   "outputs": [
    {
     "data": {
      "text/html": [
       "<div>\n",
       "<style scoped>\n",
       "    .dataframe tbody tr th:only-of-type {\n",
       "        vertical-align: middle;\n",
       "    }\n",
       "\n",
       "    .dataframe tbody tr th {\n",
       "        vertical-align: top;\n",
       "    }\n",
       "\n",
       "    .dataframe thead th {\n",
       "        text-align: right;\n",
       "    }\n",
       "</style>\n",
       "<table border=\"1\" class=\"dataframe\">\n",
       "  <thead>\n",
       "    <tr style=\"text-align: right;\">\n",
       "      <th></th>\n",
       "      <th>Daop</th>\n",
       "      <th>Nama_Depo</th>\n",
       "      <th>Pemilik</th>\n",
       "      <th>Jenis</th>\n",
       "      <th>Koordinat_X</th>\n",
       "      <th>Koordinat_Y</th>\n",
       "    </tr>\n",
       "  </thead>\n",
       "  <tbody>\n",
       "    <tr>\n",
       "      <th>0</th>\n",
       "      <td>DAOP 1 JAKARTA</td>\n",
       "      <td>Depo Lokomotif THB</td>\n",
       "      <td>PT Kereta Api Indonesia (Persero)</td>\n",
       "      <td>Depo Sarana Penggerak</td>\n",
       "      <td>-6.184171</td>\n",
       "      <td>106.810808</td>\n",
       "    </tr>\n",
       "    <tr>\n",
       "      <th>1</th>\n",
       "      <td>DAOP 1 JAKARTA</td>\n",
       "      <td>Depo Lokomotif CPN</td>\n",
       "      <td>PT Kereta Api Indonesia (Persero)</td>\n",
       "      <td>Depo Sarana Penggerak</td>\n",
       "      <td>-6.214245</td>\n",
       "      <td>106.867028</td>\n",
       "    </tr>\n",
       "    <tr>\n",
       "      <th>2</th>\n",
       "      <td>DAOP 1 JAKARTA</td>\n",
       "      <td>Depo Kereta JAKK</td>\n",
       "      <td>PT Kereta Api Indonesia (Persero)</td>\n",
       "      <td>Depo Sarana Tanpa Penggerak</td>\n",
       "      <td>-6.134634</td>\n",
       "      <td>106.823285</td>\n",
       "    </tr>\n",
       "    <tr>\n",
       "      <th>3</th>\n",
       "      <td>DAOP 1 JAKARTA</td>\n",
       "      <td>Depo Gerbong JAKG</td>\n",
       "      <td>PT Kereta Api Indonesia (Persero)</td>\n",
       "      <td>Depo Sarana Tanpa Penggerak</td>\n",
       "      <td>-6.133301</td>\n",
       "      <td>106.818028</td>\n",
       "    </tr>\n",
       "    <tr>\n",
       "      <th>4</th>\n",
       "      <td>DAOP 1 JAKARTA</td>\n",
       "      <td>Depo Kereta RK</td>\n",
       "      <td>PT Kereta Api Indonesia (Persero)</td>\n",
       "      <td>Depo Sarana Tanpa Penggerak</td>\n",
       "      <td>-6.352703</td>\n",
       "      <td>106.253297</td>\n",
       "    </tr>\n",
       "  </tbody>\n",
       "</table>\n",
       "</div>"
      ],
      "text/plain": [
       "             Daop           Nama_Depo                            Pemilik  \\\n",
       "0  DAOP 1 JAKARTA  Depo Lokomotif THB  PT Kereta Api Indonesia (Persero)   \n",
       "1  DAOP 1 JAKARTA  Depo Lokomotif CPN  PT Kereta Api Indonesia (Persero)   \n",
       "2  DAOP 1 JAKARTA    Depo Kereta JAKK  PT Kereta Api Indonesia (Persero)   \n",
       "3  DAOP 1 JAKARTA   Depo Gerbong JAKG  PT Kereta Api Indonesia (Persero)   \n",
       "4  DAOP 1 JAKARTA      Depo Kereta RK  PT Kereta Api Indonesia (Persero)   \n",
       "\n",
       "                         Jenis  Koordinat_X  Koordinat_Y  \n",
       "0        Depo Sarana Penggerak    -6.184171   106.810808  \n",
       "1        Depo Sarana Penggerak    -6.214245   106.867028  \n",
       "2  Depo Sarana Tanpa Penggerak    -6.134634   106.823285  \n",
       "3  Depo Sarana Tanpa Penggerak    -6.133301   106.818028  \n",
       "4  Depo Sarana Tanpa Penggerak    -6.352703   106.253297  "
      ]
     },
     "execution_count": 10,
     "metadata": {},
     "output_type": "execute_result"
    }
   ],
   "source": [
    "data.head()"
   ]
  },
  {
   "cell_type": "code",
   "execution_count": 11,
   "id": "36c7a489",
   "metadata": {
    "scrolled": true
   },
   "outputs": [
    {
     "data": {
      "text/plain": [
       "Depo Sarana Tanpa Penggerak    36\n",
       "Depo Sarana Penggerak          34\n",
       "Name: Jenis, dtype: int64"
      ]
     },
     "execution_count": 11,
     "metadata": {},
     "output_type": "execute_result"
    }
   ],
   "source": [
    "data['Jenis'].value_counts(dropna=False)\n"
   ]
  },
  {
   "cell_type": "code",
   "execution_count": 12,
   "id": "0b503cac",
   "metadata": {},
   "outputs": [
    {
     "data": {
      "text/plain": [
       "array(['Depo Sarana Penggerak', 'Depo Sarana Tanpa Penggerak'],\n",
       "      dtype=object)"
      ]
     },
     "execution_count": 12,
     "metadata": {},
     "output_type": "execute_result"
    }
   ],
   "source": [
    "data['Jenis'].unique()"
   ]
  },
  {
   "cell_type": "code",
   "execution_count": 13,
   "id": "20afe18a",
   "metadata": {},
   "outputs": [
    {
     "data": {
      "text/plain": [
       "2"
      ]
     },
     "execution_count": 13,
     "metadata": {},
     "output_type": "execute_result"
    }
   ],
   "source": [
    "data['Jenis'].nunique()"
   ]
  },
  {
   "cell_type": "code",
   "execution_count": 14,
   "id": "640e6a3f",
   "metadata": {},
   "outputs": [
    {
     "data": {
      "text/plain": [
       "Daop            0\n",
       "Nama_Depo       0\n",
       "Pemilik         0\n",
       "Jenis           0\n",
       "Koordinat_X    23\n",
       "Koordinat_Y    23\n",
       "dtype: int64"
      ]
     },
     "execution_count": 14,
     "metadata": {},
     "output_type": "execute_result"
    }
   ],
   "source": [
    "data.isna().sum()"
   ]
  },
  {
   "cell_type": "code",
   "execution_count": 15,
   "id": "94d03344",
   "metadata": {},
   "outputs": [
    {
     "data": {
      "text/plain": [
       "(70, 6)"
      ]
     },
     "execution_count": 15,
     "metadata": {},
     "output_type": "execute_result"
    }
   ],
   "source": [
    "data.shape"
   ]
  },
  {
   "cell_type": "code",
   "execution_count": 16,
   "id": "25dc36d0",
   "metadata": {},
   "outputs": [],
   "source": [
    "data.dropna(inplace=True)"
   ]
  },
  {
   "cell_type": "code",
   "execution_count": 17,
   "id": "d04d0579",
   "metadata": {},
   "outputs": [
    {
     "data": {
      "text/plain": [
       "(47, 6)"
      ]
     },
     "execution_count": 17,
     "metadata": {},
     "output_type": "execute_result"
    }
   ],
   "source": [
    "data.shape"
   ]
  },
  {
   "cell_type": "code",
   "execution_count": 18,
   "id": "59783559",
   "metadata": {},
   "outputs": [],
   "source": [
    "data = data.sort_values([\"Daop\", \"Nama_Depo\"])\n"
   ]
  },
  {
   "cell_type": "code",
   "execution_count": 19,
   "id": "646596c6",
   "metadata": {},
   "outputs": [
    {
     "data": {
      "text/html": [
       "<div>\n",
       "<style scoped>\n",
       "    .dataframe tbody tr th:only-of-type {\n",
       "        vertical-align: middle;\n",
       "    }\n",
       "\n",
       "    .dataframe tbody tr th {\n",
       "        vertical-align: top;\n",
       "    }\n",
       "\n",
       "    .dataframe thead th {\n",
       "        text-align: right;\n",
       "    }\n",
       "</style>\n",
       "<table border=\"1\" class=\"dataframe\">\n",
       "  <thead>\n",
       "    <tr style=\"text-align: right;\">\n",
       "      <th></th>\n",
       "      <th>Daop</th>\n",
       "      <th>Nama_Depo</th>\n",
       "      <th>Pemilik</th>\n",
       "      <th>Jenis</th>\n",
       "      <th>Koordinat_X</th>\n",
       "      <th>Koordinat_Y</th>\n",
       "    </tr>\n",
       "  </thead>\n",
       "  <tbody>\n",
       "    <tr>\n",
       "      <th>3</th>\n",
       "      <td>DAOP 1 JAKARTA</td>\n",
       "      <td>Depo Gerbong JAKG</td>\n",
       "      <td>PT Kereta Api Indonesia (Persero)</td>\n",
       "      <td>Depo Sarana Tanpa Penggerak</td>\n",
       "      <td>-6.133301</td>\n",
       "      <td>106.818028</td>\n",
       "    </tr>\n",
       "    <tr>\n",
       "      <th>2</th>\n",
       "      <td>DAOP 1 JAKARTA</td>\n",
       "      <td>Depo Kereta JAKK</td>\n",
       "      <td>PT Kereta Api Indonesia (Persero)</td>\n",
       "      <td>Depo Sarana Tanpa Penggerak</td>\n",
       "      <td>-6.134634</td>\n",
       "      <td>106.823285</td>\n",
       "    </tr>\n",
       "    <tr>\n",
       "      <th>4</th>\n",
       "      <td>DAOP 1 JAKARTA</td>\n",
       "      <td>Depo Kereta RK</td>\n",
       "      <td>PT Kereta Api Indonesia (Persero)</td>\n",
       "      <td>Depo Sarana Tanpa Penggerak</td>\n",
       "      <td>-6.352703</td>\n",
       "      <td>106.253297</td>\n",
       "    </tr>\n",
       "    <tr>\n",
       "      <th>1</th>\n",
       "      <td>DAOP 1 JAKARTA</td>\n",
       "      <td>Depo Lokomotif CPN</td>\n",
       "      <td>PT Kereta Api Indonesia (Persero)</td>\n",
       "      <td>Depo Sarana Penggerak</td>\n",
       "      <td>-6.214245</td>\n",
       "      <td>106.867028</td>\n",
       "    </tr>\n",
       "    <tr>\n",
       "      <th>0</th>\n",
       "      <td>DAOP 1 JAKARTA</td>\n",
       "      <td>Depo Lokomotif THB</td>\n",
       "      <td>PT Kereta Api Indonesia (Persero)</td>\n",
       "      <td>Depo Sarana Penggerak</td>\n",
       "      <td>-6.184171</td>\n",
       "      <td>106.810808</td>\n",
       "    </tr>\n",
       "  </tbody>\n",
       "</table>\n",
       "</div>"
      ],
      "text/plain": [
       "             Daop           Nama_Depo                            Pemilik  \\\n",
       "3  DAOP 1 JAKARTA   Depo Gerbong JAKG  PT Kereta Api Indonesia (Persero)   \n",
       "2  DAOP 1 JAKARTA    Depo Kereta JAKK  PT Kereta Api Indonesia (Persero)   \n",
       "4  DAOP 1 JAKARTA      Depo Kereta RK  PT Kereta Api Indonesia (Persero)   \n",
       "1  DAOP 1 JAKARTA  Depo Lokomotif CPN  PT Kereta Api Indonesia (Persero)   \n",
       "0  DAOP 1 JAKARTA  Depo Lokomotif THB  PT Kereta Api Indonesia (Persero)   \n",
       "\n",
       "                         Jenis  Koordinat_X  Koordinat_Y  \n",
       "3  Depo Sarana Tanpa Penggerak    -6.133301   106.818028  \n",
       "2  Depo Sarana Tanpa Penggerak    -6.134634   106.823285  \n",
       "4  Depo Sarana Tanpa Penggerak    -6.352703   106.253297  \n",
       "1        Depo Sarana Penggerak    -6.214245   106.867028  \n",
       "0        Depo Sarana Penggerak    -6.184171   106.810808  "
      ]
     },
     "execution_count": 19,
     "metadata": {},
     "output_type": "execute_result"
    }
   ],
   "source": [
    "data.head()"
   ]
  },
  {
   "cell_type": "code",
   "execution_count": 20,
   "id": "57067b3f",
   "metadata": {},
   "outputs": [
    {
     "name": "stdout",
     "output_type": "stream",
     "text": [
      "[ 1  2  3  4  5  6  7  8  9 10 11 12 13 14 15 16 17 18 19 20 21 22 23 24\n",
      " 25 26 27 28 29 30 31 32 33 34 35 36 37 38 39 40 41 42 43 44 45]\n"
     ]
    }
   ],
   "source": [
    "import numpy as np\n",
    "Nomor = np.arange(1,46)\n",
    "print(Nomor)"
   ]
  },
  {
   "cell_type": "code",
   "execution_count": 21,
   "id": "bab164fb",
   "metadata": {},
   "outputs": [],
   "source": [
    "data['Nomor'] = np.arange(1,48)"
   ]
  },
  {
   "cell_type": "code",
   "execution_count": 22,
   "id": "813a656e",
   "metadata": {},
   "outputs": [
    {
     "data": {
      "text/plain": [
       "Index(['Daop', 'Nama_Depo', 'Pemilik', 'Jenis', 'Koordinat_X', 'Koordinat_Y',\n",
       "       'Nomor'],\n",
       "      dtype='object')"
      ]
     },
     "execution_count": 22,
     "metadata": {},
     "output_type": "execute_result"
    }
   ],
   "source": [
    "data.columns"
   ]
  },
  {
   "cell_type": "code",
   "execution_count": 23,
   "id": "a84a0674",
   "metadata": {},
   "outputs": [],
   "source": [
    "data = data[['Nomor', 'Daop', 'Nama_Depo', 'Pemilik', 'Jenis', 'Koordinat_X', 'Koordinat_Y']]"
   ]
  },
  {
   "cell_type": "code",
   "execution_count": 24,
   "id": "791f2a50",
   "metadata": {
    "scrolled": true
   },
   "outputs": [
    {
     "data": {
      "text/html": [
       "<div>\n",
       "<style scoped>\n",
       "    .dataframe tbody tr th:only-of-type {\n",
       "        vertical-align: middle;\n",
       "    }\n",
       "\n",
       "    .dataframe tbody tr th {\n",
       "        vertical-align: top;\n",
       "    }\n",
       "\n",
       "    .dataframe thead th {\n",
       "        text-align: right;\n",
       "    }\n",
       "</style>\n",
       "<table border=\"1\" class=\"dataframe\">\n",
       "  <thead>\n",
       "    <tr style=\"text-align: right;\">\n",
       "      <th></th>\n",
       "      <th>Nomor</th>\n",
       "      <th>Daop</th>\n",
       "      <th>Nama_Depo</th>\n",
       "      <th>Pemilik</th>\n",
       "      <th>Jenis</th>\n",
       "      <th>Koordinat_X</th>\n",
       "      <th>Koordinat_Y</th>\n",
       "    </tr>\n",
       "  </thead>\n",
       "  <tbody>\n",
       "    <tr>\n",
       "      <th>55</th>\n",
       "      <td>43</td>\n",
       "      <td>DIVRE IV LAMPUNG</td>\n",
       "      <td>Depo Lokomotif THN</td>\n",
       "      <td>PT Kereta Api Indonesia (Persero)</td>\n",
       "      <td>Depo Sarana Penggerak</td>\n",
       "      <td>-5.503102</td>\n",
       "      <td>105.336337</td>\n",
       "    </tr>\n",
       "    <tr>\n",
       "      <th>60</th>\n",
       "      <td>44</td>\n",
       "      <td>DIVRE IV LAMPUNG</td>\n",
       "      <td>Depo Lokomotif TNK</td>\n",
       "      <td>PT Kereta Api Indonesia (Persero)</td>\n",
       "      <td>Depo Sarana Penggerak</td>\n",
       "      <td>-5.406307</td>\n",
       "      <td>105.261059</td>\n",
       "    </tr>\n",
       "    <tr>\n",
       "      <th>53</th>\n",
       "      <td>45</td>\n",
       "      <td>PT KAI COMMUTER JABOTABEK</td>\n",
       "      <td>Depo KRL Bogor</td>\n",
       "      <td>PT Kereta Commuter Indonesia</td>\n",
       "      <td>Depo Sarana Penggerak</td>\n",
       "      <td>-6.591201</td>\n",
       "      <td>106.791453</td>\n",
       "    </tr>\n",
       "    <tr>\n",
       "      <th>51</th>\n",
       "      <td>46</td>\n",
       "      <td>PT KAI COMMUTER JABOTABEK</td>\n",
       "      <td>Depo KRL BukitDuri</td>\n",
       "      <td>PT Kereta Commuter Indonesia</td>\n",
       "      <td>Depo Sarana Penggerak</td>\n",
       "      <td>-6.217738</td>\n",
       "      <td>106.861169</td>\n",
       "    </tr>\n",
       "    <tr>\n",
       "      <th>52</th>\n",
       "      <td>47</td>\n",
       "      <td>PT KAI COMMUTER JABOTABEK</td>\n",
       "      <td>Depo KRL Depok</td>\n",
       "      <td>Ditjen Perkeretaapian</td>\n",
       "      <td>Depo Sarana Penggerak</td>\n",
       "      <td>-6.416477</td>\n",
       "      <td>106.811902</td>\n",
       "    </tr>\n",
       "  </tbody>\n",
       "</table>\n",
       "</div>"
      ],
      "text/plain": [
       "    Nomor                       Daop           Nama_Depo  \\\n",
       "55     43           DIVRE IV LAMPUNG  Depo Lokomotif THN   \n",
       "60     44           DIVRE IV LAMPUNG  Depo Lokomotif TNK   \n",
       "53     45  PT KAI COMMUTER JABOTABEK      Depo KRL Bogor   \n",
       "51     46  PT KAI COMMUTER JABOTABEK  Depo KRL BukitDuri   \n",
       "52     47  PT KAI COMMUTER JABOTABEK      Depo KRL Depok   \n",
       "\n",
       "                              Pemilik                  Jenis  Koordinat_X  \\\n",
       "55  PT Kereta Api Indonesia (Persero)  Depo Sarana Penggerak    -5.503102   \n",
       "60  PT Kereta Api Indonesia (Persero)  Depo Sarana Penggerak    -5.406307   \n",
       "53       PT Kereta Commuter Indonesia  Depo Sarana Penggerak    -6.591201   \n",
       "51       PT Kereta Commuter Indonesia  Depo Sarana Penggerak    -6.217738   \n",
       "52              Ditjen Perkeretaapian  Depo Sarana Penggerak    -6.416477   \n",
       "\n",
       "    Koordinat_Y  \n",
       "55   105.336337  \n",
       "60   105.261059  \n",
       "53   106.791453  \n",
       "51   106.861169  \n",
       "52   106.811902  "
      ]
     },
     "execution_count": 24,
     "metadata": {},
     "output_type": "execute_result"
    }
   ],
   "source": [
    "data.tail()"
   ]
  },
  {
   "cell_type": "code",
   "execution_count": null,
   "id": "0b841e02",
   "metadata": {},
   "outputs": [],
   "source": []
  },
  {
   "cell_type": "code",
   "execution_count": 25,
   "id": "f7b788ba",
   "metadata": {
    "scrolled": false
   },
   "outputs": [
    {
     "name": "stdout",
     "output_type": "stream",
     "text": [
      "                         Jenis  Nama_Depo\n",
      "0        Depo Sarana Penggerak         20\n",
      "1  Depo Sarana Tanpa Penggerak         27\n"
     ]
    }
   ],
   "source": [
    "jumlah_depo = data.groupby(['Jenis'])['Nama_Depo'].count().reset_index()\n",
    "print(jumlah_depo)"
   ]
  },
  {
   "cell_type": "code",
   "execution_count": 26,
   "id": "c75f61a4",
   "metadata": {},
   "outputs": [
    {
     "name": "stdout",
     "output_type": "stream",
     "text": [
      "0          Depo Sarana Penggerak\n",
      "1    Depo Sarana Tanpa Penggerak\n",
      "Name: Jenis, dtype: object\n",
      "<class 'pandas.core.series.Series'>\n"
     ]
    }
   ],
   "source": [
    "labels = jumlah_depo['Jenis']\n",
    "print(labels)\n",
    "print (type(labels))"
   ]
  },
  {
   "cell_type": "code",
   "execution_count": 27,
   "id": "b0c72a15",
   "metadata": {},
   "outputs": [
    {
     "name": "stdout",
     "output_type": "stream",
     "text": [
      "0    20\n",
      "1    27\n",
      "Name: Nama_Depo, dtype: int64\n",
      "<class 'pandas.core.series.Series'>\n"
     ]
    }
   ],
   "source": [
    "sizes = jumlah_depo['Nama_Depo']\n",
    "print(sizes)\n",
    "print(type(sizes))"
   ]
  },
  {
   "cell_type": "code",
   "execution_count": 28,
   "id": "82f6e12b",
   "metadata": {},
   "outputs": [
    {
     "data": {
      "image/png": "[encoded data removed]",
      "text/plain": [
       "<Figure size 432x288 with 1 Axes>"
      ]
     },
     "metadata": {},
     "output_type": "display_data"
    }
   ],
   "source": [
    "import matplotlib.pyplot as plt\n",
    "\n",
    "# Pie chart, where the slices will be ordered and plotted counter-clockwise:\n",
    "labels = 'Frogs', 'Hogs', 'Dogs', 'Logs'\n",
    "sizes = [15, 30, 45, 10]\n",
    "explode = (0, 0.1, 0, 0)  # only \"explode\" the 2nd slice (i.e. 'Hogs')\n",
    "\n",
    "fig1, ax1 = plt.subplots()\n",
    "ax1.pie(sizes, explode=explode, labels=labels, autopct='%1.1f%%',\n",
    "        shadow=True, startangle=90)\n",
    "ax1.axis('equal')  # Equal aspect ratio ensures that pie is drawn as a circle.\n",
    "\n",
    "plt.show()"
   ]
  },
  {
   "cell_type": "code",
   "execution_count": 29,
   "id": "b7ad707b",
   "metadata": {},
   "outputs": [
    {
     "data": {
      "image/png": "[encoded data removed]",
      "text/plain": [
       "<Figure size 432x288 with 1 Axes>"
      ]
     },
     "metadata": {},
     "output_type": "display_data"
    }
   ],
   "source": [
    "import matplotlib.pyplot as plt\n",
    "\n",
    "# Pie chart, where the slices will be ordered and plotted counter-clockwise:\n",
    "labels = jumlah_depo['Jenis']\n",
    "#sizes = [19, 27]\n",
    "sizes = jumlah_depo['Nama_Depo']\n",
    "explode = (0, 0.1)  # only \"explode\" the 2nd slice (i.e. 'Hogs')\n",
    "\n",
    "fig1, ax1 = plt.subplots()\n",
    "ax1.pie(sizes, explode=explode, labels=labels, autopct='%1.1f%%',\n",
    "        shadow=True, startangle=90)\n",
    "ax1.axis('equal')  # Equal aspect ratio ensures that pie is drawn as a circle.\n",
    "\n",
    "plt.show()"
   ]
  },
  {
   "cell_type": "code",
   "execution_count": 30,
   "id": "0337e823",
   "metadata": {},
   "outputs": [
    {
     "data": {
      "text/plain": [
       "DAOP 8 SURABAYA               7\n",
       "DIVRE IV LAMPUNG              5\n",
       "DAOP 1 JAKARTA                5\n",
       "DAOP 6 YOGYAKARTA             4\n",
       "DIVRE III SUMATERA SELATAN    4\n",
       "DAOP 5 PURWOKERTO             4\n",
       "PT KAI COMMUTER JABOTABEK     3\n",
       "DAOP 4 SEMARANG               3\n",
       "DIVRE II SUMATERA BARAT       2\n",
       "DIVRE I SUMATERA UTARA        2\n",
       "DAOP 2 BANDUNG                2\n",
       "DAOP 3 CIREBON                2\n",
       "DAOP 9 JEMBER                 2\n",
       "DAOP 7 MADIUN                 2\n",
       "Name: Daop, dtype: int64"
      ]
     },
     "execution_count": 30,
     "metadata": {},
     "output_type": "execute_result"
    }
   ],
   "source": [
    "data[\"Daop\"].value_counts()"
   ]
  },
  {
   "cell_type": "code",
   "execution_count": 31,
   "id": "290b4695",
   "metadata": {},
   "outputs": [],
   "source": [
    "data_depo_all.to_csv(path_or_buf='data_source/datsar/depo.csv', sep=',')"
   ]
  },
  {
   "cell_type": "code",
   "execution_count": null,
   "id": "2192d734",
   "metadata": {},
   "outputs": [],
   "source": []
  }
 ],
 "metadata": {
  "kernelspec": {
   "display_name": "Python 3",
   "language": "python",
   "name": "python3"
  },
  "language_info": {
   "codemirror_mode": {
    "name": "ipython",
    "version": 3
   },
   "file_extension": ".py",
   "mimetype": "text/x-python",
   "name": "python",
   "nbconvert_exporter": "python",
   "pygments_lexer": "ipython3",
   "version": "3.8.10"
  }
 },
 "nbformat": 4,
 "nbformat_minor": 5
}
